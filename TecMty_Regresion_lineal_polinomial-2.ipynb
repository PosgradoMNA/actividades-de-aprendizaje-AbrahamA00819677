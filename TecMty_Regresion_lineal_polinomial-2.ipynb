{
 "cells": [
  {
   "cell_type": "markdown",
   "metadata": {
    "id": "WUO-kdryVQwK"
   },
   "source": [
    "# Linear Models\n"
   ]
  },
  {
   "cell_type": "code",
   "execution_count": null,
   "metadata": {
    "id": "Msm89naSzi21"
   },
   "outputs": [],
   "source": []
  },
  {
   "cell_type": "markdown",
   "metadata": {
    "id": "u3ytB4LpVQwM"
   },
   "source": [
    "- In supervised learning, the training data fed to the algorithm includes the desired solutions, called labels. \n",
    "- In **regression**, the labels are continuous quantities.\n",
    "- Linear models predict by computing a weighted sum of input features plus a bias term."
   ]
  },
  {
   "cell_type": "code",
   "execution_count": 1,
   "metadata": {
    "id": "HMp_I4Y6VQwN"
   },
   "outputs": [],
   "source": [
    "import numpy as np\n",
    "%matplotlib inline\n",
    "import matplotlib\n",
    "import matplotlib.pyplot as plt\n",
    "import pandas as pd\n",
    "import seaborn as sns\n",
    "# to make this notebook's output stable across runs\n",
    "np.random.seed(42)"
   ]
  },
  {
   "cell_type": "code",
   "execution_count": 2,
   "metadata": {
    "colab": {
     "base_uri": "https://localhost:8080/"
    },
    "id": "exg6xSYf3F5D",
    "outputId": "09e8c07b-9e62-44e5-9176-9419e1faa96a"
   },
   "outputs": [
    {
     "data": {
      "text/plain": [
       "3"
      ]
     },
     "execution_count": 2,
     "metadata": {},
     "output_type": "execute_result"
    }
   ],
   "source": [
    "5-2"
   ]
  },
  {
   "cell_type": "markdown",
   "metadata": {
    "id": "szpzFXgiVQwN"
   },
   "source": [
    "## Simple Linear Regression\n",
    "\n",
    "Simple linear regression equation:\n",
    "\n",
    "$y = ax + b$\n",
    "<br>\n",
    "$a$: slope\n",
    "<br>\n",
    "$b$: intercept\n",
    "\n",
    "Generate linear-looking data with the equation:\n",
    "\n",
    "$y = 3X + 4 + noise$"
   ]
  },
  {
   "cell_type": "code",
   "execution_count": 3,
   "metadata": {
    "colab": {
     "base_uri": "https://localhost:8080/"
    },
    "id": "mitJFYeiMQqD",
    "outputId": "bcdf26d2-6d99-463c-e124-8273101239da"
   },
   "outputs": [
    {
     "data": {
      "text/plain": [
       "array([[0.37454012],\n",
       "       [0.95071431],\n",
       "       [0.73199394],\n",
       "       [0.59865848],\n",
       "       [0.15601864],\n",
       "       [0.15599452],\n",
       "       [0.05808361],\n",
       "       [0.86617615],\n",
       "       [0.60111501],\n",
       "       [0.70807258],\n",
       "       [0.02058449],\n",
       "       [0.96990985],\n",
       "       [0.83244264],\n",
       "       [0.21233911],\n",
       "       [0.18182497],\n",
       "       [0.18340451],\n",
       "       [0.30424224],\n",
       "       [0.52475643],\n",
       "       [0.43194502],\n",
       "       [0.29122914],\n",
       "       [0.61185289],\n",
       "       [0.13949386],\n",
       "       [0.29214465],\n",
       "       [0.36636184],\n",
       "       [0.45606998],\n",
       "       [0.78517596],\n",
       "       [0.19967378],\n",
       "       [0.51423444],\n",
       "       [0.59241457],\n",
       "       [0.04645041],\n",
       "       [0.60754485],\n",
       "       [0.17052412],\n",
       "       [0.06505159],\n",
       "       [0.94888554],\n",
       "       [0.96563203],\n",
       "       [0.80839735],\n",
       "       [0.30461377],\n",
       "       [0.09767211],\n",
       "       [0.68423303],\n",
       "       [0.44015249],\n",
       "       [0.12203823],\n",
       "       [0.49517691],\n",
       "       [0.03438852],\n",
       "       [0.9093204 ],\n",
       "       [0.25877998],\n",
       "       [0.66252228],\n",
       "       [0.31171108],\n",
       "       [0.52006802],\n",
       "       [0.54671028],\n",
       "       [0.18485446],\n",
       "       [0.96958463],\n",
       "       [0.77513282],\n",
       "       [0.93949894],\n",
       "       [0.89482735],\n",
       "       [0.59789998],\n",
       "       [0.92187424],\n",
       "       [0.0884925 ],\n",
       "       [0.19598286],\n",
       "       [0.04522729],\n",
       "       [0.32533033],\n",
       "       [0.38867729],\n",
       "       [0.27134903],\n",
       "       [0.82873751],\n",
       "       [0.35675333],\n",
       "       [0.28093451],\n",
       "       [0.54269608],\n",
       "       [0.14092422],\n",
       "       [0.80219698],\n",
       "       [0.07455064],\n",
       "       [0.98688694],\n",
       "       [0.77224477],\n",
       "       [0.19871568],\n",
       "       [0.00552212],\n",
       "       [0.81546143],\n",
       "       [0.70685734],\n",
       "       [0.72900717],\n",
       "       [0.77127035],\n",
       "       [0.07404465],\n",
       "       [0.35846573],\n",
       "       [0.11586906],\n",
       "       [0.86310343],\n",
       "       [0.62329813],\n",
       "       [0.33089802],\n",
       "       [0.06355835],\n",
       "       [0.31098232],\n",
       "       [0.32518332],\n",
       "       [0.72960618],\n",
       "       [0.63755747],\n",
       "       [0.88721274],\n",
       "       [0.47221493],\n",
       "       [0.11959425],\n",
       "       [0.71324479],\n",
       "       [0.76078505],\n",
       "       [0.5612772 ],\n",
       "       [0.77096718],\n",
       "       [0.4937956 ],\n",
       "       [0.52273283],\n",
       "       [0.42754102],\n",
       "       [0.02541913],\n",
       "       [0.10789143]])"
      ]
     },
     "execution_count": 3,
     "metadata": {},
     "output_type": "execute_result"
    }
   ],
   "source": [
    "np.random.rand(100, 1)"
   ]
  },
  {
   "cell_type": "code",
   "execution_count": 4,
   "metadata": {
    "colab": {
     "base_uri": "https://localhost:8080/",
     "height": 265
    },
    "id": "QyubE1VEVQwN",
    "outputId": "c88964d8-4f37-4a29-8c8b-83704e30211b"
   },
   "outputs": [
    {
     "data": {
      "image/png": "[encoded data removed]",
      "text/plain": [
       "<Figure size 640x480 with 1 Axes>"
      ]
     },
     "metadata": {},
     "output_type": "display_data"
    }
   ],
   "source": [
    "X = 2*np.random.rand(100, 1)\n",
    "y = 4 + 3 * X + np.random.randn(100, 1)\n",
    "plt.scatter(X, y);"
   ]
  },
  {
   "cell_type": "code",
   "execution_count": 5,
   "metadata": {
    "colab": {
     "base_uri": "https://localhost:8080/",
     "height": 423
    },
    "id": "M5kaENJ4bZY5",
    "outputId": "80a86255-e6f9-4405-f3d4-6f401ccde033"
   },
   "outputs": [
    {
     "data": {
      "text/html": [
       "<div>\n",
       "<style scoped>\n",
       "    .dataframe tbody tr th:only-of-type {\n",
       "        vertical-align: middle;\n",
       "    }\n",
       "\n",
       "    .dataframe tbody tr th {\n",
       "        vertical-align: top;\n",
       "    }\n",
       "\n",
       "    .dataframe thead th {\n",
       "        text-align: right;\n",
       "    }\n",
       "</style>\n",
       "<table border=\"1\" class=\"dataframe\">\n",
       "  <thead>\n",
       "    <tr style=\"text-align: right;\">\n",
       "      <th></th>\n",
       "      <th>0</th>\n",
       "    </tr>\n",
       "  </thead>\n",
       "  <tbody>\n",
       "    <tr>\n",
       "      <th>0</th>\n",
       "      <td>3.508550</td>\n",
       "    </tr>\n",
       "    <tr>\n",
       "      <th>1</th>\n",
       "      <td>8.050716</td>\n",
       "    </tr>\n",
       "    <tr>\n",
       "      <th>2</th>\n",
       "      <td>6.179208</td>\n",
       "    </tr>\n",
       "    <tr>\n",
       "      <th>3</th>\n",
       "      <td>6.337073</td>\n",
       "    </tr>\n",
       "    <tr>\n",
       "      <th>4</th>\n",
       "      <td>11.311173</td>\n",
       "    </tr>\n",
       "    <tr>\n",
       "      <th>...</th>\n",
       "      <td>...</td>\n",
       "    </tr>\n",
       "    <tr>\n",
       "      <th>95</th>\n",
       "      <td>5.441928</td>\n",
       "    </tr>\n",
       "    <tr>\n",
       "      <th>96</th>\n",
       "      <td>10.121188</td>\n",
       "    </tr>\n",
       "    <tr>\n",
       "      <th>97</th>\n",
       "      <td>9.787643</td>\n",
       "    </tr>\n",
       "    <tr>\n",
       "      <th>98</th>\n",
       "      <td>8.061635</td>\n",
       "    </tr>\n",
       "    <tr>\n",
       "      <th>99</th>\n",
       "      <td>9.597115</td>\n",
       "    </tr>\n",
       "  </tbody>\n",
       "</table>\n",
       "<p>100 rows × 1 columns</p>\n",
       "</div>"
      ],
      "text/plain": [
       "            0\n",
       "0    3.508550\n",
       "1    8.050716\n",
       "2    6.179208\n",
       "3    6.337073\n",
       "4   11.311173\n",
       "..        ...\n",
       "95   5.441928\n",
       "96  10.121188\n",
       "97   9.787643\n",
       "98   8.061635\n",
       "99   9.597115\n",
       "\n",
       "[100 rows x 1 columns]"
      ]
     },
     "execution_count": 5,
     "metadata": {},
     "output_type": "execute_result"
    }
   ],
   "source": [
    "import pandas as pd\n",
    "pd.DataFrame(y)"
   ]
  },
  {
   "cell_type": "code",
   "execution_count": 6,
   "metadata": {
    "colab": {
     "base_uri": "https://localhost:8080/"
    },
    "id": "x6XGt_iAVQwO",
    "outputId": "9eb09db5-617b-4f74-c5f9-977e8af61be2"
   },
   "outputs": [
    {
     "data": {
      "text/plain": [
       "LinearRegression()"
      ]
     },
     "execution_count": 6,
     "metadata": {},
     "output_type": "execute_result"
    }
   ],
   "source": [
    "from sklearn.linear_model import LinearRegression\n",
    "\n",
    "linear_reg = LinearRegression(fit_intercept=True)\n",
    "linear_reg.fit(X, y)"
   ]
  },
  {
   "cell_type": "markdown",
   "metadata": {
    "id": "Hnm9YgjbVQwO"
   },
   "source": [
    "Plot the model's predictions:"
   ]
  },
  {
   "cell_type": "code",
   "execution_count": 47,
   "metadata": {
    "id": "9NtrLfGGVQwP"
   },
   "outputs": [],
   "source": [
    "#X_fit[]"
   ]
  },
  {
   "cell_type": "code",
   "execution_count": 8,
   "metadata": {
    "colab": {
     "base_uri": "https://localhost:8080/",
     "height": 287
    },
    "id": "1ZTT31igVQwP",
    "outputId": "86dd5a56-503e-4d31-a2c9-369e45a62666"
   },
   "outputs": [
    {
     "data": {
      "image/png": "[encoded data removed]",
      "text/plain": [
       "<Figure size 640x480 with 1 Axes>"
      ]
     },
     "metadata": {},
     "output_type": "display_data"
    }
   ],
   "source": [
    "# construct best fit line\n",
    "X_fit = np.linspace(0, 2, 100)\n",
    "y_fit = linear_reg.predict(X_fit[:, np.newaxis])\n",
    "\n",
    "plt.scatter(X, y)\n",
    "plt.plot(X_fit, y_fit, \"r-\", linewidth=2, label=\"Predictions\")\n",
    "plt.xlabel(\"$X$\", fontsize=18)\n",
    "plt.ylabel(\"$y$\", rotation=0, fontsize=18)\n",
    "plt.legend(loc=\"upper left\", fontsize=14);"
   ]
  },
  {
   "cell_type": "markdown",
   "metadata": {
    "id": "kIfOsEcWVQwP"
   },
   "source": [
    "Predictions are a good fit."
   ]
  },
  {
   "cell_type": "markdown",
   "metadata": {
    "id": "z2VYUeGrVQwQ"
   },
   "source": [
    "Generate new data to make predictions with the model:"
   ]
  },
  {
   "cell_type": "code",
   "execution_count": 9,
   "metadata": {
    "colab": {
     "base_uri": "https://localhost:8080/"
    },
    "id": "FuEd0Wp0VQwQ",
    "outputId": "367f69d6-5d6a-4dd8-a2b2-1c7de2340fdd"
   },
   "outputs": [
    {
     "data": {
      "text/plain": [
       "array([[0],\n",
       "       [2]])"
      ]
     },
     "execution_count": 9,
     "metadata": {},
     "output_type": "execute_result"
    }
   ],
   "source": [
    "X_new = np.array([[0], [2]])\n",
    "X_new"
   ]
  },
  {
   "cell_type": "code",
   "execution_count": 10,
   "metadata": {
    "colab": {
     "base_uri": "https://localhost:8080/"
    },
    "id": "lLCnLm7_VQwQ",
    "outputId": "40e094c6-54d4-4019-9748-81cca8f6820e"
   },
   "outputs": [
    {
     "data": {
      "text/plain": [
       "(2, 1)"
      ]
     },
     "execution_count": 10,
     "metadata": {},
     "output_type": "execute_result"
    }
   ],
   "source": [
    "X_new.shape"
   ]
  },
  {
   "cell_type": "code",
   "execution_count": 11,
   "metadata": {
    "colab": {
     "base_uri": "https://localhost:8080/"
    },
    "id": "zJIzUfZsVQwQ",
    "outputId": "e7cfadbc-9048-4843-c3cb-c728cdc90f50"
   },
   "outputs": [
    {
     "data": {
      "text/plain": [
       "array([[ 3.74406122],\n",
       "       [10.47517611]])"
      ]
     },
     "execution_count": 11,
     "metadata": {},
     "output_type": "execute_result"
    }
   ],
   "source": [
    "y_new = linear_reg.predict(X_new)\n",
    "y_new"
   ]
  },
  {
   "cell_type": "code",
   "execution_count": 12,
   "metadata": {
    "colab": {
     "base_uri": "https://localhost:8080/"
    },
    "id": "ICiEnkbdVQwQ",
    "outputId": "300cd885-b624-4eb8-8c55-70c953c23b70"
   },
   "outputs": [
    {
     "data": {
      "text/plain": [
       "(array([[3.36555744]]), array([3.74406122]))"
      ]
     },
     "execution_count": 12,
     "metadata": {},
     "output_type": "execute_result"
    }
   ],
   "source": [
    " linear_reg.coef_, linear_reg.intercept_"
   ]
  },
  {
   "cell_type": "markdown",
   "metadata": {
    "id": "iBXzOecgVQwR"
   },
   "source": [
    "The model estimates:\n",
    "\n",
    "$\\hat{y} = 3.36X + 3.74$"
   ]
  },
  {
   "cell_type": "code",
   "execution_count": 13,
   "metadata": {
    "id": "ZNvipq0wQYfj"
   },
   "outputs": [],
   "source": [
    "#|VENTAS|GANANCIAS|\n",
    "#COEF*VENTAS+B\n",
    "#|VENTAS|COMPRAS|GANANCIAS|\n",
    "#COEF1*X1+COEF2*X2+B=Y"
   ]
  },
  {
   "cell_type": "markdown",
   "metadata": {
    "id": "_Rv-RJSnVQwR"
   },
   "source": [
    "## Polynomial Regression\n",
    "\n",
    "If data is more complex than a straight line, you can use a linear model ti fit non-linear data adding powers of each feature as new features and then train a linear model on the extended set of features. "
   ]
  },
  {
   "cell_type": "markdown",
   "metadata": {
    "id": "dPrpAVsZVQwR"
   },
   "source": [
    "$$y = a_0 + a_1x_1 + a_2x_2 + a_3x_3 + ...$$ to $$y = a_0 + a_1x + a_2x^2 + a_3x^3+ ...$$ "
   ]
  },
  {
   "cell_type": "markdown",
   "metadata": {
    "id": "9kjMWzEfVQwR"
   },
   "source": [
    "This is still a linear model, the linearity refers to the fact that the coefficients never multiply or divide each other."
   ]
  },
  {
   "cell_type": "markdown",
   "metadata": {
    "id": "2M3fp_CSVQwR"
   },
   "source": [
    "To generate polynomial data we use the function:\n",
    "\n",
    "$y = 0.50X^2 + X + 2 + noise$"
   ]
  },
  {
   "cell_type": "code",
   "execution_count": 14,
   "metadata": {
    "id": "sSrueMnPVQwR"
   },
   "outputs": [],
   "source": [
    "# generate non-linear data e.g. quadratic equation\n",
    "m = 100\n",
    "X = 6 * np.random.rand(m, 1) - 3\n",
    "y = 0.5 * X**2 + X + 2 + np.random.randn(m, 1)"
   ]
  },
  {
   "cell_type": "code",
   "execution_count": 15,
   "metadata": {
    "colab": {
     "base_uri": "https://localhost:8080/",
     "height": 291
    },
    "id": "GNQQoXkMVQwS",
    "outputId": "5284814d-3b79-4a75-c7c3-a26c161846ca"
   },
   "outputs": [
    {
     "data": {
      "image/png": "[encoded data removed]",
      "text/plain": [
       "<Figure size 640x480 with 1 Axes>"
      ]
     },
     "metadata": {},
     "output_type": "display_data"
    }
   ],
   "source": [
    "plt.plot(X, y, \"b.\")\n",
    "plt.xlabel(\"$x_1$\", fontsize=18)\n",
    "plt.ylabel(\"$y$\", rotation=0, fontsize=18)\n",
    "plt.axis([-3, 3, 0, 10]);"
   ]
  },
  {
   "cell_type": "code",
   "execution_count": 16,
   "metadata": {
    "colab": {
     "base_uri": "https://localhost:8080/",
     "height": 423
    },
    "id": "YtaK_dsidNcP",
    "outputId": "ed940d74-045d-4578-a1c1-3cac6bbea074"
   },
   "outputs": [
    {
     "data": {
      "text/html": [
       "<div>\n",
       "<style scoped>\n",
       "    .dataframe tbody tr th:only-of-type {\n",
       "        vertical-align: middle;\n",
       "    }\n",
       "\n",
       "    .dataframe tbody tr th {\n",
       "        vertical-align: top;\n",
       "    }\n",
       "\n",
       "    .dataframe thead th {\n",
       "        text-align: right;\n",
       "    }\n",
       "</style>\n",
       "<table border=\"1\" class=\"dataframe\">\n",
       "  <thead>\n",
       "    <tr style=\"text-align: right;\">\n",
       "      <th></th>\n",
       "      <th>0</th>\n",
       "    </tr>\n",
       "  </thead>\n",
       "  <tbody>\n",
       "    <tr>\n",
       "      <th>0</th>\n",
       "      <td>8.529240</td>\n",
       "    </tr>\n",
       "    <tr>\n",
       "      <th>1</th>\n",
       "      <td>3.768929</td>\n",
       "    </tr>\n",
       "    <tr>\n",
       "      <th>2</th>\n",
       "      <td>3.354423</td>\n",
       "    </tr>\n",
       "    <tr>\n",
       "      <th>3</th>\n",
       "      <td>2.747935</td>\n",
       "    </tr>\n",
       "    <tr>\n",
       "      <th>4</th>\n",
       "      <td>0.808458</td>\n",
       "    </tr>\n",
       "    <tr>\n",
       "      <th>...</th>\n",
       "      <td>...</td>\n",
       "    </tr>\n",
       "    <tr>\n",
       "      <th>95</th>\n",
       "      <td>5.346771</td>\n",
       "    </tr>\n",
       "    <tr>\n",
       "      <th>96</th>\n",
       "      <td>6.338229</td>\n",
       "    </tr>\n",
       "    <tr>\n",
       "      <th>97</th>\n",
       "      <td>3.488785</td>\n",
       "    </tr>\n",
       "    <tr>\n",
       "      <th>98</th>\n",
       "      <td>1.372002</td>\n",
       "    </tr>\n",
       "    <tr>\n",
       "      <th>99</th>\n",
       "      <td>-0.072150</td>\n",
       "    </tr>\n",
       "  </tbody>\n",
       "</table>\n",
       "<p>100 rows × 1 columns</p>\n",
       "</div>"
      ],
      "text/plain": [
       "           0\n",
       "0   8.529240\n",
       "1   3.768929\n",
       "2   3.354423\n",
       "3   2.747935\n",
       "4   0.808458\n",
       "..       ...\n",
       "95  5.346771\n",
       "96  6.338229\n",
       "97  3.488785\n",
       "98  1.372002\n",
       "99 -0.072150\n",
       "\n",
       "[100 rows x 1 columns]"
      ]
     },
     "execution_count": 16,
     "metadata": {},
     "output_type": "execute_result"
    }
   ],
   "source": [
    "import pandas as pd\n",
    "pd.DataFrame(y)"
   ]
  },
  {
   "cell_type": "markdown",
   "metadata": {
    "id": "vrZTRaLNVQwS"
   },
   "source": [
    "Now we can use `PolynomialFeatues` to transform training data adding the square of each feature as new features."
   ]
  },
  {
   "cell_type": "code",
   "execution_count": 17,
   "metadata": {
    "id": "BXo0Hm56VQwS"
   },
   "outputs": [],
   "source": [
    "from sklearn.preprocessing import PolynomialFeatures\n",
    "\n",
    "poly_features = PolynomialFeatures(degree=2, include_bias=False)\n",
    "X_poly = poly_features.fit_transform(X)"
   ]
  },
  {
   "cell_type": "code",
   "execution_count": 18,
   "metadata": {
    "colab": {
     "base_uri": "https://localhost:8080/"
    },
    "id": "1FqY9-I4VQwS",
    "outputId": "d5d3ca46-6530-4848-96a2-2a9c61918fbc"
   },
   "outputs": [
    {
     "data": {
      "text/plain": [
       "array([[ 2.72919168e+00,  7.44848725e+00],\n",
       "       [ 1.42738150e+00,  2.03741795e+00],\n",
       "       [ 3.26124315e-01,  1.06357069e-01],\n",
       "       [ 6.70324477e-01,  4.49334905e-01],\n",
       "       [-4.82399625e-01,  2.32709399e-01],\n",
       "       [-1.51361406e+00,  2.29102753e+00],\n",
       "       [-8.64163928e-01,  7.46779295e-01],\n",
       "       [ 1.54707666e+00,  2.39344620e+00],\n",
       "       [-2.91363907e+00,  8.48929262e+00],\n",
       "       [-2.30356416e+00,  5.30640783e+00],\n",
       "       [-2.72398415e+00,  7.42008964e+00],\n",
       "       [-2.75562719e+00,  7.59348119e+00],\n",
       "       [ 2.13276350e+00,  4.54868016e+00],\n",
       "       [ 1.22194716e+00,  1.49315485e+00],\n",
       "       [-1.54957025e-01,  2.40116797e-02],\n",
       "       [-2.41299504e+00,  5.82254504e+00],\n",
       "       [-5.03047493e-02,  2.53056780e-03],\n",
       "       [-1.59169375e-01,  2.53348900e-02],\n",
       "       [-1.96078878e+00,  3.84469264e+00],\n",
       "       [-3.96890105e-01,  1.57521755e-01],\n",
       "       [-6.08971594e-01,  3.70846402e-01],\n",
       "       [ 6.95100588e-01,  4.83164828e-01],\n",
       "       [ 8.10561905e-01,  6.57010602e-01],\n",
       "       [-2.72817594e+00,  7.44294397e+00],\n",
       "       [-7.52324312e-01,  5.65991871e-01],\n",
       "       [ 7.55159494e-01,  5.70265862e-01],\n",
       "       [ 1.88175515e-02,  3.54100244e-04],\n",
       "       [ 2.13893905e+00,  4.57506025e+00],\n",
       "       [ 9.52161790e-01,  9.06612074e-01],\n",
       "       [-2.02239344e+00,  4.09007522e+00],\n",
       "       [-2.57658752e+00,  6.63880323e+00],\n",
       "       [ 8.54515669e-01,  7.30197029e-01],\n",
       "       [-2.84093214e+00,  8.07089541e+00],\n",
       "       [ 5.14653488e-01,  2.64868212e-01],\n",
       "       [ 2.64138145e+00,  6.97689596e+00],\n",
       "       [ 4.52845067e-01,  2.05068655e-01],\n",
       "       [-6.70980443e-01,  4.50214755e-01],\n",
       "       [ 8.59729311e-01,  7.39134488e-01],\n",
       "       [-2.50482657e-01,  6.27415615e-02],\n",
       "       [ 2.73700736e-01,  7.49120928e-02],\n",
       "       [ 2.64878885e+00,  7.01608239e+00],\n",
       "       [-6.83384173e-01,  4.67013928e-01],\n",
       "       [ 2.76714338e+00,  7.65708250e+00],\n",
       "       [ 2.43210385e+00,  5.91512915e+00],\n",
       "       [-1.82525319e+00,  3.33154921e+00],\n",
       "       [-2.58383219e+00,  6.67618881e+00],\n",
       "       [-2.39533199e+00,  5.73761535e+00],\n",
       "       [-2.89066905e+00,  8.35596753e+00],\n",
       "       [-2.43334224e+00,  5.92115443e+00],\n",
       "       [ 1.09804064e+00,  1.20569325e+00],\n",
       "       [-2.57286811e+00,  6.61965031e+00],\n",
       "       [-1.08614622e+00,  1.17971361e+00],\n",
       "       [ 2.06925187e+00,  4.28180328e+00],\n",
       "       [-2.86036839e+00,  8.18170730e+00],\n",
       "       [ 1.88681090e+00,  3.56005536e+00],\n",
       "       [-1.30887135e+00,  1.71314421e+00],\n",
       "       [-2.29101103e+00,  5.24873156e+00],\n",
       "       [ 1.18042299e+00,  1.39339844e+00],\n",
       "       [ 7.73657081e-01,  5.98545278e-01],\n",
       "       [ 2.26483208e+00,  5.12946436e+00],\n",
       "       [ 1.41042626e+00,  1.98930224e+00],\n",
       "       [ 1.82088558e+00,  3.31562430e+00],\n",
       "       [-1.30779256e+00,  1.71032139e+00],\n",
       "       [-1.93536274e+00,  3.74562893e+00],\n",
       "       [ 1.50368851e+00,  2.26107913e+00],\n",
       "       [ 1.84100844e+00,  3.38931206e+00],\n",
       "       [ 2.94303085e+00,  8.66143060e+00],\n",
       "       [-5.24293939e-01,  2.74884134e-01],\n",
       "       [-7.67891485e-01,  5.89657333e-01],\n",
       "       [ 1.65847776e+00,  2.75054850e+00],\n",
       "       [-9.55178758e-01,  9.12366461e-01],\n",
       "       [ 2.58454395e+00,  6.67986745e+00],\n",
       "       [ 2.15047651e+00,  4.62454922e+00],\n",
       "       [-4.26035836e-01,  1.81506533e-01],\n",
       "       [ 1.50522641e+00,  2.26570654e+00],\n",
       "       [ 1.52725724e+00,  2.33251469e+00],\n",
       "       [-2.38125679e+00,  5.67038389e+00],\n",
       "       [ 2.41531744e+00,  5.83375834e+00],\n",
       "       [ 3.15142347e-02,  9.93146988e-04],\n",
       "       [ 1.95874480e+00,  3.83668118e+00],\n",
       "       [-1.07970239e+00,  1.16575726e+00],\n",
       "       [ 2.37313937e+00,  5.63179047e+00],\n",
       "       [-6.64789928e-01,  4.41945648e-01],\n",
       "       [-2.93497409e+00,  8.61407292e+00],\n",
       "       [ 2.43229186e+00,  5.91604369e+00],\n",
       "       [-2.45227994e+00,  6.01367690e+00],\n",
       "       [-1.08411817e+00,  1.17531222e+00],\n",
       "       [ 2.70037180e+00,  7.29200787e+00],\n",
       "       [ 2.70364288e+00,  7.30968483e+00],\n",
       "       [ 4.40627329e-01,  1.94152443e-01],\n",
       "       [ 7.91023273e-01,  6.25717818e-01],\n",
       "       [-3.09326868e-01,  9.56831113e-02],\n",
       "       [-1.24073537e+00,  1.53942426e+00],\n",
       "       [-1.02801273e+00,  1.05681017e+00],\n",
       "       [ 1.03511074e+00,  1.07145424e+00],\n",
       "       [ 1.51424718e+00,  2.29294451e+00],\n",
       "       [ 1.74947426e+00,  3.06066019e+00],\n",
       "       [ 1.73770886e+00,  3.01963207e+00],\n",
       "       [-2.45276338e+00,  6.01604821e+00],\n",
       "       [-3.34781718e-02,  1.12078799e-03]])"
      ]
     },
     "execution_count": 18,
     "metadata": {},
     "output_type": "execute_result"
    }
   ],
   "source": [
    "X_poly"
   ]
  },
  {
   "cell_type": "markdown",
   "metadata": {
    "id": "GrFMRU_eVQwS"
   },
   "source": [
    "`X_poly` now contains the original feature of X plus the square of the feature:"
   ]
  },
  {
   "cell_type": "code",
   "execution_count": 19,
   "metadata": {
    "colab": {
     "base_uri": "https://localhost:8080/"
    },
    "id": "M8FH1dY2UwgN",
    "outputId": "b1ab252f-15be-4663-8014-d7420047017e"
   },
   "outputs": [
    {
     "name": "stdout",
     "output_type": "stream",
     "text": [
      "[2.72919168]\n",
      "[7.44848725]\n"
     ]
    }
   ],
   "source": [
    "print(X[0])\n",
    "print(X[0]*X[0])\n"
   ]
  },
  {
   "cell_type": "code",
   "execution_count": 20,
   "metadata": {
    "colab": {
     "base_uri": "https://localhost:8080/"
    },
    "id": "PSflPniWVQwT",
    "outputId": "5c8dc768-8e52-42f9-e790-5ba1ce7d5816"
   },
   "outputs": [
    {
     "data": {
      "text/plain": [
       "array([2.72919168, 7.44848725])"
      ]
     },
     "execution_count": 20,
     "metadata": {},
     "output_type": "execute_result"
    }
   ],
   "source": [
    "X_poly[0]"
   ]
  },
  {
   "cell_type": "markdown",
   "metadata": {
    "id": "HaXjXg7FVQwT"
   },
   "source": [
    "Fit the model to this extended training data:"
   ]
  },
  {
   "cell_type": "code",
   "execution_count": 21,
   "metadata": {
    "colab": {
     "base_uri": "https://localhost:8080/"
    },
    "id": "c0Qu93dgVQwT",
    "outputId": "2d33bd34-f425-4206-87b9-49daa184637c"
   },
   "outputs": [
    {
     "data": {
      "text/plain": [
       "(array([[1.04271531, 0.50866711]]), array([2.01873554]))"
      ]
     },
     "execution_count": 21,
     "metadata": {},
     "output_type": "execute_result"
    }
   ],
   "source": [
    "lin_reg = LinearRegression(fit_intercept=True)\n",
    "lin_reg.fit(X_poly, y)\n",
    "lin_reg.coef_, lin_reg.intercept_"
   ]
  },
  {
   "cell_type": "markdown",
   "metadata": {
    "id": "rKOSwvnmVQwT"
   },
   "source": [
    "The model estimates:\n",
    "\n",
    "$\\hat{y} =  0.89X +0.48X^2 + 2.09$"
   ]
  },
  {
   "cell_type": "markdown",
   "metadata": {
    "id": "_EtZEKz5VQwT"
   },
   "source": [
    "Plot the data and the predictions:"
   ]
  },
  {
   "cell_type": "code",
   "execution_count": 22,
   "metadata": {
    "colab": {
     "base_uri": "https://localhost:8080/",
     "height": 291
    },
    "id": "6Q8dHRgdVQwT",
    "outputId": "eeb2ed3a-bcc3-4f4d-b052-65f07a498a05"
   },
   "outputs": [
    {
     "data": {
      "image/png": "[encoded data removed]",
      "text/plain": [
       "<Figure size 640x480 with 1 Axes>"
      ]
     },
     "metadata": {},
     "output_type": "display_data"
    }
   ],
   "source": [
    "X_new=np.linspace(-3, 3, 100).reshape(100, 1)\n",
    "X_new_poly = poly_features.transform(X_new)\n",
    "y_new = lin_reg.predict(X_new_poly)\n",
    "plt.plot(X, y, \"b.\")\n",
    "plt.plot(X_new, y_new, \"r-\", linewidth=2, label=\"Predictions\")\n",
    "plt.xlabel(\"$x_1$\", fontsize=18)\n",
    "plt.ylabel(\"$y$\", rotation=0, fontsize=18)\n",
    "plt.legend(loc=\"upper left\", fontsize=14)\n",
    "plt.axis([-3, 3, 0, 10]);"
   ]
  },
  {
   "cell_type": "code",
   "execution_count": null,
   "metadata": {
    "id": "vyq0o8f2pcqa"
   },
   "outputs": [],
   "source": []
  },
  {
   "cell_type": "markdown",
   "metadata": {
    "id": "TIFwAtW1pc6h"
   },
   "source": [
    "## R square\n",
    "\n",
    "R² es una medida estadística de qué tan cerca están los datos de la línea de regresión ajustada. También se conoce como el coeficiente de determinación o el coeficiente de determinación múltiple para la regresión múltiple. Para decirlo en un lenguaje más simple, R² es una medida de ajuste para los modelos de regresión lineal.\n",
    "\n",
    "\n",
    "\n",
    "R² no indica si un modelo de regresión se ajusta adecuadamente a sus datos. Un buen modelo puede tener un valor R² bajo. Por otro lado, un modelo sesgado puede tener un valor alto de R².\n",
    "\n",
    " SSres + SSreg = SStot, R² = Explained variation / Total Variation\n",
    " \n",
    " ![image.png](https://i.stack.imgur.com/xb1VY.png)\n",
    " \n",
    "![image.png](https://3.bp.blogspot.com/-MFqQLwbGwd4/WMO7tz39beI/AAAAAAAAF9I/Bjpfohgv_5E4lu7HzHJBQtXsBM--byqPwCLcB/s1600/rsquared.png)\n"
   ]
  },
  {
   "cell_type": "markdown",
   "metadata": {
    "id": "nTKFj4x9LMXm"
   },
   "source": [
    "# Ejercicio 1\n",
    "\n",
    "Utiliza la base de datos de \n",
    "https://www.kaggle.com/vinicius150987/manufacturing-cost\n",
    "\n",
    "Suponga que trabaja como consultor de una empresa de nueva creación que busca desarrollar un modelo para estimar el costo de los bienes vendidos a medida que varían el volumen de producción (número de unidades producidas). La startup recopiló datos y le pidió que desarrollara un modelo para predecir su costo frente a la cantidad de unidades vendidas."
   ]
  },
  {
   "cell_type": "code",
   "execution_count": 50,
   "metadata": {
    "colab": {
     "base_uri": "https://localhost:8080/",
     "height": 363
    },
    "id": "oTnErQOkL3oa",
    "outputId": "52622ce8-8aca-44fe-afe4-b50d0784225c"
   },
   "outputs": [
    {
     "data": {
      "text/html": [
       "<div>\n",
       "<style scoped>\n",
       "    .dataframe tbody tr th:only-of-type {\n",
       "        vertical-align: middle;\n",
       "    }\n",
       "\n",
       "    .dataframe tbody tr th {\n",
       "        vertical-align: top;\n",
       "    }\n",
       "\n",
       "    .dataframe thead th {\n",
       "        text-align: right;\n",
       "    }\n",
       "</style>\n",
       "<table border=\"1\" class=\"dataframe\">\n",
       "  <thead>\n",
       "    <tr style=\"text-align: right;\">\n",
       "      <th></th>\n",
       "      <th>Number of Units</th>\n",
       "      <th>Manufacturing Cost</th>\n",
       "    </tr>\n",
       "  </thead>\n",
       "  <tbody>\n",
       "    <tr>\n",
       "      <th>887</th>\n",
       "      <td>6.022948</td>\n",
       "      <td>37.286697</td>\n",
       "    </tr>\n",
       "    <tr>\n",
       "      <th>170</th>\n",
       "      <td>3.182915</td>\n",
       "      <td>45.496473</td>\n",
       "    </tr>\n",
       "    <tr>\n",
       "      <th>63</th>\n",
       "      <td>2.479723</td>\n",
       "      <td>59.129649</td>\n",
       "    </tr>\n",
       "    <tr>\n",
       "      <th>179</th>\n",
       "      <td>3.224625</td>\n",
       "      <td>41.447674</td>\n",
       "    </tr>\n",
       "    <tr>\n",
       "      <th>424</th>\n",
       "      <td>4.214040</td>\n",
       "      <td>33.951714</td>\n",
       "    </tr>\n",
       "    <tr>\n",
       "      <th>922</th>\n",
       "      <td>6.385253</td>\n",
       "      <td>30.902568</td>\n",
       "    </tr>\n",
       "    <tr>\n",
       "      <th>377</th>\n",
       "      <td>4.085876</td>\n",
       "      <td>44.449300</td>\n",
       "    </tr>\n",
       "    <tr>\n",
       "      <th>614</th>\n",
       "      <td>4.868221</td>\n",
       "      <td>40.618870</td>\n",
       "    </tr>\n",
       "    <tr>\n",
       "      <th>441</th>\n",
       "      <td>4.251257</td>\n",
       "      <td>40.071950</td>\n",
       "    </tr>\n",
       "    <tr>\n",
       "      <th>530</th>\n",
       "      <td>4.537264</td>\n",
       "      <td>35.512017</td>\n",
       "    </tr>\n",
       "  </tbody>\n",
       "</table>\n",
       "</div>"
      ],
      "text/plain": [
       "     Number of Units  Manufacturing Cost\n",
       "887         6.022948           37.286697\n",
       "170         3.182915           45.496473\n",
       "63          2.479723           59.129649\n",
       "179         3.224625           41.447674\n",
       "424         4.214040           33.951714\n",
       "922         6.385253           30.902568\n",
       "377         4.085876           44.449300\n",
       "614         4.868221           40.618870\n",
       "441         4.251257           40.071950\n",
       "530         4.537264           35.512017"
      ]
     },
     "execution_count": 50,
     "metadata": {},
     "output_type": "execute_result"
    }
   ],
   "source": [
    "import pandas as pd\n",
    "df = pd.read_csv('https://raw.githubusercontent.com/marypazrf/bdd/main/EconomiesOfScale.csv')\n",
    "df.sample(10)"
   ]
  },
  {
   "cell_type": "code",
   "execution_count": 51,
   "metadata": {
    "id": "14kGO5nkMGlV"
   },
   "outputs": [],
   "source": [
    "X = df[['Number of Units']]\n",
    "y = df['Manufacturing Cost']"
   ]
  },
  {
   "cell_type": "code",
   "execution_count": 52,
   "metadata": {
    "colab": {
     "base_uri": "https://localhost:8080/"
    },
    "id": "ksh_OrkjY3GW",
    "outputId": "2455aae4-2df4-45dd-f6ad-d768abc62342"
   },
   "outputs": [
    {
     "data": {
      "text/plain": [
       "1000"
      ]
     },
     "execution_count": 52,
     "metadata": {},
     "output_type": "execute_result"
    }
   ],
   "source": [
    "len(X)"
   ]
  },
  {
   "cell_type": "code",
   "execution_count": 53,
   "metadata": {
    "colab": {
     "base_uri": "https://localhost:8080/"
    },
    "id": "bwR6SSqQDfC2",
    "outputId": "2537f2f9-3321-4e78-b735-70d8293dce7c"
   },
   "outputs": [
    {
     "data": {
      "text/plain": [
       "<bound method NDFrame.describe of 0      95.066056\n",
       "1      96.531750\n",
       "2      73.661311\n",
       "3      95.566843\n",
       "4      98.777013\n",
       "         ...    \n",
       "995    23.855067\n",
       "996    27.536542\n",
       "997    25.973787\n",
       "998    25.138311\n",
       "999    21.547777\n",
       "Name: Manufacturing Cost, Length: 1000, dtype: float64>"
      ]
     },
     "execution_count": 53,
     "metadata": {},
     "output_type": "execute_result"
    }
   ],
   "source": [
    "y.describe"
   ]
  },
  {
   "cell_type": "code",
   "execution_count": 27,
   "metadata": {
    "colab": {
     "base_uri": "https://localhost:8080/",
     "height": 283
    },
    "id": "idoEjfEhMoxk",
    "outputId": "a42c8de5-1f3f-4bcf-8f03-66b858ca40e0"
   },
   "outputs": [
    {
     "data": {
      "text/plain": [
       "[<matplotlib.lines.Line2D at 0x7fcaf95a2460>]"
      ]
     },
     "execution_count": 27,
     "metadata": {},
     "output_type": "execute_result"
    },
    {
     "data": {
      "image/png": "[encoded data removed]",
      "text/plain": [
       "<Figure size 640x480 with 1 Axes>"
      ]
     },
     "metadata": {},
     "output_type": "display_data"
    }
   ],
   "source": [
    "plt.plot(X,y,'b.')"
   ]
  },
  {
   "cell_type": "code",
   "execution_count": 38,
   "metadata": {
    "id": "kMmOy97puOLE"
   },
   "outputs": [
    {
     "data": {
      "text/plain": [
       "LinearRegression()"
      ]
     },
     "execution_count": 38,
     "metadata": {},
     "output_type": "execute_result"
    }
   ],
   "source": [
    "#lineal\n",
    "\n",
    "linear_reg = LinearRegression(fit_intercept=True)\n",
    "linear_reg.fit(X,y)"
   ]
  },
  {
   "cell_type": "code",
   "execution_count": 54,
   "metadata": {},
   "outputs": [],
   "source": [
    "from sklearn.model_selection import train_test_split\n",
    "X_train, X_test, y_train, y_test = train_test_split(X, y, test_size = 0.2, random_state = 42)"
   ]
  },
  {
   "cell_type": "code",
   "execution_count": 55,
   "metadata": {},
   "outputs": [
    {
     "data": {
      "text/plain": [
       "LinearRegression()"
      ]
     },
     "execution_count": 55,
     "metadata": {},
     "output_type": "execute_result"
    }
   ],
   "source": [
    "from sklearn.linear_model import LinearRegression\n",
    "\n",
    "linear_reg = LinearRegression(fit_intercept=True)\n",
    "linear_reg.fit(X_train,y_train)"
   ]
  },
  {
   "cell_type": "code",
   "execution_count": 56,
   "metadata": {},
   "outputs": [
    {
     "data": {
      "text/plain": [
       "array([-6.21850698])"
      ]
     },
     "execution_count": 56,
     "metadata": {},
     "output_type": "execute_result"
    }
   ],
   "source": [
    "linear_reg.coef_"
   ]
  },
  {
   "cell_type": "code",
   "execution_count": 57,
   "metadata": {},
   "outputs": [
    {
     "data": {
      "text/plain": [
       "67.89012908512076"
      ]
     },
     "execution_count": 57,
     "metadata": {},
     "output_type": "execute_result"
    }
   ],
   "source": [
    "linear_reg.intercept_"
   ]
  },
  {
   "cell_type": "code",
   "execution_count": 42,
   "metadata": {
    "colab": {
     "base_uri": "https://localhost:8080/",
     "height": 243
    },
    "id": "-VDz4zLK9Q0K",
    "outputId": "93e125df-4966-4a63-faa7-1fd32dffd8cc"
   },
   "outputs": [
    {
     "name": "stdout",
     "output_type": "stream",
     "text": [
      "Error medio Absoluto (MAE): 139686.5273373469\n",
      "Root Mean Squared Error: 216029.37463814966\n",
      "r2_score 0.6537318108687113\n"
     ]
    }
   ],
   "source": [
    "from sklearn import metrics\n",
    "from sklearn.metrics import r2_score\n",
    "\n",
    "print('Error medio Absoluto (MAE):', metrics.mean_absolute_error(y, y_pred))\n",
    "print('Root Mean Squared Error:', np.sqrt(metrics.mean_squared_error(y, y_pred)))\n",
    "print('r2_score',r2_score(y, y_pred))"
   ]
  },
  {
   "cell_type": "code",
   "execution_count": 60,
   "metadata": {},
   "outputs": [
    {
     "name": "stderr",
     "output_type": "stream",
     "text": [
      "/Users/abrahamrt/opt/anaconda3/lib/python3.8/site-packages/sklearn/base.py:450: UserWarning: X does not have valid feature names, but LinearRegression was fitted with feature names\n",
      "  warnings.warn(\n"
     ]
    },
    {
     "data": {
      "image/png": "[encoded data removed]",
      "text/plain": [
       "<Figure size 640x480 with 1 Axes>"
      ]
     },
     "metadata": {},
     "output_type": "display_data"
    }
   ],
   "source": [
    "# construct best fit line\n",
    "\n",
    "# construct best fit line\n",
    "X_fit = np.linspace(0, 10, 200)\n",
    "y_fit = linear_reg.predict(X_fit[:, np.newaxis])\n",
    "\n",
    "plt.plot(X_train, y_train, \"b.\")\n",
    "plt.plot(X_fit, y_fit, \"r-\", linewidth=2, label=\"Predictions\")\n",
    "plt.xlabel(\"$X train$\", fontsize=12)\n",
    "plt.ylabel(\"$y train$\", rotation=90, fontsize=12)\n",
    "plt.legend(loc=\"upper right\", fontsize=10);\n"
   ]
  },
  {
   "cell_type": "code",
   "execution_count": 62,
   "metadata": {},
   "outputs": [
    {
     "name": "stdout",
     "output_type": "stream",
     "text": [
      "Error medio Absoluto (MAE): 4.513943834797746\n",
      "Root Mean Squared Error: 5.932738736518162\n",
      "r2_score 0.5695897011831417\n"
     ]
    }
   ],
   "source": [
    "from sklearn import metrics\n",
    "from sklearn.metrics import r2_score\n",
    "\n",
    "y_pred = linear_reg.predict(X_test)\n",
    "\n",
    "print('Error medio Absoluto (MAE):', metrics.mean_absolute_error(y_test, y_pred))\n",
    "print('Root Mean Squared Error:', np.sqrt(metrics.mean_squared_error(y_test, y_pred)))\n",
    "print('r2_score',r2_score(y_test, y_pred))"
   ]
  },
  {
   "cell_type": "code",
   "execution_count": 64,
   "metadata": {},
   "outputs": [
    {
     "data": {
      "text/plain": [
       "array([[ 1.86522775,  3.47907457],\n",
       "       [ 4.54842911, 20.68820735],\n",
       "       [ 5.11287348, 26.14147523],\n",
       "       ...,\n",
       "       [ 5.85509721, 34.2821633 ],\n",
       "       [ 4.24212411, 17.99561697],\n",
       "       [ 2.79408325,  7.80690121]])"
      ]
     },
     "execution_count": 64,
     "metadata": {},
     "output_type": "execute_result"
    }
   ],
   "source": [
    "#polinomial\n",
    "\n",
    "poly_transform = PolynomialFeatures(degree=2, include_bias = False)\n",
    "Xpoly = poly_transform.fit_transform(X_train)\n",
    "\n",
    "Xpoly"
   ]
  },
  {
   "cell_type": "code",
   "execution_count": 65,
   "metadata": {},
   "outputs": [
    {
     "data": {
      "text/plain": [
       "LinearRegression()"
      ]
     },
     "execution_count": 65,
     "metadata": {},
     "output_type": "execute_result"
    }
   ],
   "source": [
    "poli_reg = LinearRegression(fit_intercept=True)\n",
    "\n",
    "poli_reg.fit(Xpoly, y_train)\n",
    "\n",
    "\n"
   ]
  },
  {
   "cell_type": "code",
   "execution_count": 68,
   "metadata": {},
   "outputs": [
    {
     "data": {
      "text/plain": [
       "array([-17.81636965,   1.27181952])"
      ]
     },
     "execution_count": 68,
     "metadata": {},
     "output_type": "execute_result"
    }
   ],
   "source": [
    "poli_reg.coef_"
   ]
  },
  {
   "cell_type": "code",
   "execution_count": 69,
   "metadata": {},
   "outputs": [
    {
     "data": {
      "text/plain": [
       "92.0358203494912"
      ]
     },
     "execution_count": 69,
     "metadata": {},
     "output_type": "execute_result"
    }
   ],
   "source": [
    "poli_reg.intercept_"
   ]
  },
  {
   "cell_type": "code",
   "execution_count": 71,
   "metadata": {},
   "outputs": [],
   "source": [
    "y_pred = poli_reg.predict(Xpoly)"
   ]
  },
  {
   "cell_type": "code",
   "execution_count": 73,
   "metadata": {},
   "outputs": [
    {
     "data": {
      "image/png": "[encoded data removed]",
      "text/plain": [
       "<Figure size 640x480 with 1 Axes>"
      ]
     },
     "metadata": {},
     "output_type": "display_data"
    }
   ],
   "source": [
    "Xfit = np.linspace(0, 10, 100).reshape(100,1)\n",
    "poliX_fit = poly_transform.fit_transform(Xfit)\n",
    "poliX_fit\n",
    "yfit = poli_reg.predict(poliX_fit)\n",
    "\n",
    "plt.scatter(X_train, y_train)\n",
    "plt.plot(Xfit, yfit, \"r-\", linewidth=2, label=\"Predictions\")\n",
    "plt.xlabel(\"$X$\", fontsize=18)\n",
    "plt.ylabel(\"$y$\", rotation=0, fontsize=18)\n",
    "plt.legend(loc=\"upper left\", fontsize=14);"
   ]
  },
  {
   "cell_type": "code",
   "execution_count": 77,
   "metadata": {},
   "outputs": [
    {
     "name": "stderr",
     "output_type": "stream",
     "text": [
      "/Users/abrahamrt/opt/anaconda3/lib/python3.8/site-packages/sklearn/base.py:443: UserWarning: X has feature names, but PolynomialFeatures was fitted without feature names\n",
      "  warnings.warn(\n"
     ]
    }
   ],
   "source": [
    "Xtestpoli = poly_features.transform(X_test)"
   ]
  },
  {
   "cell_type": "code",
   "execution_count": 78,
   "metadata": {},
   "outputs": [],
   "source": [
    "y_pred = poli_reg.predict(Xtestpoli)"
   ]
  },
  {
   "cell_type": "code",
   "execution_count": 79,
   "metadata": {},
   "outputs": [
    {
     "name": "stdout",
     "output_type": "stream",
     "text": [
      "Error medio Absoluto (MAE): 4.372292708304973\n",
      "Root Mean Squared Error: 5.764249049866789\n",
      "r2_score 0.5936898412489064\n"
     ]
    }
   ],
   "source": [
    "from sklearn import metrics\n",
    "from sklearn.metrics import r2_score\n",
    "\n",
    "print('Error medio Absoluto (MAE):', metrics.mean_absolute_error(y_test, y_pred))\n",
    "print('Root Mean Squared Error:', np.sqrt(metrics.mean_squared_error(y_test, y_pred)))\n",
    "print('r2_score',r2_score(y_test, y_pred))\n",
    "\n",
    "\n",
    "\n",
    "\n",
    "\n"
   ]
  },
  {
   "cell_type": "markdown",
   "metadata": {},
   "source": [
    "Divide los datos del costo de manufactura. Utiliza la función train_test_split (viene el ejemplo al final del notebook). Regresión Lineal. Realiza la regresión lineal: modelo generado (ecuación), su visualización, sus errores y r cuadrada. Regresión Polinomial. Realiza la regresión polinomial completa, tu modelo generado (ecuación), su visualización, sus errores y r cuadrada. Realiza la regresión con Ridge y Lasso. Incluye la ecuación de tu modelo, visualización , errores y r cuadrada. Finalmente grafica : MAE (de los cuatro métodos) R2 (de los cuatro métodos) Explica tus resultados, que método conviene más a la empresa, ¿por que?, ¿que porcentajes de entrenamiento y evaluación?, ¿que error tienes?, ¿es bueno?, ¿cómo lo sabes?"
   ]
  },
  {
   "cell_type": "code",
   "execution_count": 118,
   "metadata": {},
   "outputs": [
    {
     "data": {
      "text/html": [
       "<div>\n",
       "<style scoped>\n",
       "    .dataframe tbody tr th:only-of-type {\n",
       "        vertical-align: middle;\n",
       "    }\n",
       "\n",
       "    .dataframe tbody tr th {\n",
       "        vertical-align: top;\n",
       "    }\n",
       "\n",
       "    .dataframe thead th {\n",
       "        text-align: right;\n",
       "    }\n",
       "</style>\n",
       "<table border=\"1\" class=\"dataframe\">\n",
       "  <thead>\n",
       "    <tr style=\"text-align: right;\">\n",
       "      <th></th>\n",
       "      <th>Number of Units</th>\n",
       "      <th>Manufacturing Cost</th>\n",
       "    </tr>\n",
       "  </thead>\n",
       "  <tbody>\n",
       "    <tr>\n",
       "      <th>521</th>\n",
       "      <td>4.518689</td>\n",
       "      <td>38.634483</td>\n",
       "    </tr>\n",
       "    <tr>\n",
       "      <th>737</th>\n",
       "      <td>5.284690</td>\n",
       "      <td>33.233497</td>\n",
       "    </tr>\n",
       "    <tr>\n",
       "      <th>740</th>\n",
       "      <td>5.292696</td>\n",
       "      <td>34.550609</td>\n",
       "    </tr>\n",
       "    <tr>\n",
       "      <th>660</th>\n",
       "      <td>5.030596</td>\n",
       "      <td>34.982985</td>\n",
       "    </tr>\n",
       "    <tr>\n",
       "      <th>411</th>\n",
       "      <td>4.182289</td>\n",
       "      <td>43.090662</td>\n",
       "    </tr>\n",
       "    <tr>\n",
       "      <th>678</th>\n",
       "      <td>5.077623</td>\n",
       "      <td>29.087582</td>\n",
       "    </tr>\n",
       "    <tr>\n",
       "      <th>626</th>\n",
       "      <td>4.925292</td>\n",
       "      <td>39.152161</td>\n",
       "    </tr>\n",
       "    <tr>\n",
       "      <th>513</th>\n",
       "      <td>4.483809</td>\n",
       "      <td>41.780157</td>\n",
       "    </tr>\n",
       "    <tr>\n",
       "      <th>859</th>\n",
       "      <td>5.853092</td>\n",
       "      <td>36.344797</td>\n",
       "    </tr>\n",
       "    <tr>\n",
       "      <th>136</th>\n",
       "      <td>3.049856</td>\n",
       "      <td>54.462176</td>\n",
       "    </tr>\n",
       "  </tbody>\n",
       "</table>\n",
       "</div>"
      ],
      "text/plain": [
       "     Number of Units  Manufacturing Cost\n",
       "521         4.518689           38.634483\n",
       "737         5.284690           33.233497\n",
       "740         5.292696           34.550609\n",
       "660         5.030596           34.982985\n",
       "411         4.182289           43.090662\n",
       "678         5.077623           29.087582\n",
       "626         4.925292           39.152161\n",
       "513         4.483809           41.780157\n",
       "859         5.853092           36.344797\n",
       "136         3.049856           54.462176"
      ]
     },
     "execution_count": 118,
     "metadata": {},
     "output_type": "execute_result"
    }
   ],
   "source": [
    "df = pd.read_csv('https://raw.githubusercontent.com/marypazrf/bdd/main/EconomiesOfScale.csv')\n",
    "df.sample(10)"
   ]
  },
  {
   "cell_type": "code",
   "execution_count": 119,
   "metadata": {},
   "outputs": [],
   "source": [
    "X = df[['Number of Units']]\n",
    "y = df['Manufacturing Cost']"
   ]
  },
  {
   "cell_type": "code",
   "execution_count": 120,
   "metadata": {},
   "outputs": [],
   "source": [
    "# Dividimos los datos\n",
    "X_train, X_test, y_train, y_test = train_test_split(X, y, test_size = 0.2, random_state = 11)\n"
   ]
  },
  {
   "cell_type": "code",
   "execution_count": 121,
   "metadata": {},
   "outputs": [
    {
     "data": {
      "text/plain": [
       "(800, 1)"
      ]
     },
     "execution_count": 121,
     "metadata": {},
     "output_type": "execute_result"
    }
   ],
   "source": [
    "X_train.shape"
   ]
  },
  {
   "cell_type": "code",
   "execution_count": 122,
   "metadata": {},
   "outputs": [
    {
     "data": {
      "text/plain": [
       "(800,)"
      ]
     },
     "execution_count": 122,
     "metadata": {},
     "output_type": "execute_result"
    }
   ],
   "source": [
    "y_train.shape"
   ]
  },
  {
   "cell_type": "code",
   "execution_count": 123,
   "metadata": {},
   "outputs": [
    {
     "data": {
      "text/plain": [
       "LinearRegression()"
      ]
     },
     "execution_count": 123,
     "metadata": {},
     "output_type": "execute_result"
    }
   ],
   "source": [
    "linear = LinearRegression(fit_intercept=True)\n",
    "linear.fit(X_train, y_train)"
   ]
  },
  {
   "cell_type": "code",
   "execution_count": 124,
   "metadata": {},
   "outputs": [
    {
     "name": "stderr",
     "output_type": "stream",
     "text": [
      "/Users/abrahamrt/opt/anaconda3/lib/python3.8/site-packages/sklearn/base.py:450: UserWarning: X does not have valid feature names, but LinearRegression was fitted with feature names\n",
      "  warnings.warn(\n"
     ]
    },
    {
     "data": {
      "image/png": "[encoded data removed]",
      "text/plain": [
       "<Figure size 640x480 with 1 Axes>"
      ]
     },
     "metadata": {},
     "output_type": "display_data"
    }
   ],
   "source": [
    "\n",
    "#Entrenamos\n",
    "\n",
    "X_fit = np.linspace(0, 10, 100)\n",
    "y_fit = linear.predict(X_fit[:, np.newaxis])\n",
    "\n",
    "plt.scatter(X_test, y_test)\n",
    "plt.plot(X_fit, y_fit, \"r-\", linewidth=2, label=\"Predictions\")\n",
    "plt.xlabel(\"$X$\", fontsize=18)\n",
    "plt.ylabel(\"$y$\", rotation=0, fontsize=18)\n",
    "plt.legend(loc=\"upper left\", fontsize=14);"
   ]
  },
  {
   "cell_type": "code",
   "execution_count": 125,
   "metadata": {},
   "outputs": [
    {
     "data": {
      "text/plain": [
       "array([-6.22263745])"
      ]
     },
     "execution_count": 125,
     "metadata": {},
     "output_type": "execute_result"
    }
   ],
   "source": [
    "linear.coef_"
   ]
  },
  {
   "cell_type": "code",
   "execution_count": 126,
   "metadata": {},
   "outputs": [
    {
     "data": {
      "text/plain": [
       "68.08187672497846"
      ]
     },
     "execution_count": 126,
     "metadata": {},
     "output_type": "execute_result"
    }
   ],
   "source": [
    "linear.intercept_"
   ]
  },
  {
   "cell_type": "code",
   "execution_count": 127,
   "metadata": {},
   "outputs": [
    {
     "name": "stdout",
     "output_type": "stream",
     "text": [
      "Error medio Absoluto (MAE): 4.833241143988721\n",
      "Root Mean Squared Error: 6.668203882750842\n",
      "r2_score 0.48439969577999353\n"
     ]
    }
   ],
   "source": [
    "y_pred = linear.predict(X_test)\n",
    "linear_Mae = metrics.mean_absolute_error(y_test, y_pred)\n",
    "linear_r2 = r2_score(y_test, y_pred)\n",
    "print('Error medio Absoluto (MAE):', metrics.mean_absolute_error(y_test, y_pred))\n",
    "print('Root Mean Squared Error:', np.sqrt(metrics.mean_squared_error(y_test, y_pred)))\n",
    "print('r2_score', r2_score(y_test, y_pred))"
   ]
  },
  {
   "cell_type": "markdown",
   "metadata": {},
   "source": [
    "El conglomerado de datos, en el centro de la grafica, combinado con los malos metricos resultantes nos indican que el modelo de regresion lineal no es un buen candidato."
   ]
  },
  {
   "cell_type": "code",
   "execution_count": 128,
   "metadata": {},
   "outputs": [
    {
     "data": {
      "text/plain": [
       "array([[  5.65669179,  31.99816198, 181.00374013],\n",
       "       [  5.53635996,  30.65128163, 169.69652839],\n",
       "       [  2.25713058,   5.09463847,  11.49926431],\n",
       "       ...,\n",
       "       [  2.64655085,   7.00423138,  18.53705446],\n",
       "       [  5.18000789,  26.83248172, 138.99246696],\n",
       "       [  6.37652342,  40.66005096, 259.26976735]])"
      ]
     },
     "execution_count": 128,
     "metadata": {},
     "output_type": "execute_result"
    }
   ],
   "source": [
    "# Regresion Polimomial\n",
    "\n",
    "\n",
    "poli_transform = PolynomialFeatures(degree=3, include_bias = False)\n",
    "poliX = poli_transform.fit_transform(X_train)\n",
    "poliX\n",
    "\n"
   ]
  },
  {
   "cell_type": "code",
   "execution_count": 129,
   "metadata": {},
   "outputs": [
    {
     "data": {
      "text/plain": [
       "LinearRegression()"
      ]
     },
     "execution_count": 129,
     "metadata": {},
     "output_type": "execute_result"
    }
   ],
   "source": [
    "poli_regression = LinearRegression(fit_intercept=True)\n",
    "poli_regression.fit(poliX, y_train)"
   ]
  },
  {
   "cell_type": "code",
   "execution_count": 130,
   "metadata": {},
   "outputs": [
    {
     "data": {
      "text/plain": [
       "array([-35.3746951 ,   5.28612952,  -0.28112892])"
      ]
     },
     "execution_count": 130,
     "metadata": {},
     "output_type": "execute_result"
    }
   ],
   "source": [
    "poli_regression.coef_"
   ]
  },
  {
   "cell_type": "code",
   "execution_count": 131,
   "metadata": {},
   "outputs": [
    {
     "data": {
      "text/plain": [
       "115.22180379591063"
      ]
     },
     "execution_count": 131,
     "metadata": {},
     "output_type": "execute_result"
    }
   ],
   "source": [
    "poli_regression.intercept_"
   ]
  },
  {
   "cell_type": "code",
   "execution_count": 132,
   "metadata": {},
   "outputs": [],
   "source": [
    "y_pred = poli_regression.predict(poliX)"
   ]
  },
  {
   "cell_type": "code",
   "execution_count": 133,
   "metadata": {},
   "outputs": [
    {
     "data": {
      "image/png": "[encoded data removed]",
      "text/plain": [
       "<Figure size 640x480 with 1 Axes>"
      ]
     },
     "metadata": {},
     "output_type": "display_data"
    }
   ],
   "source": [
    "X_fit = np.linspace(0, 10, 100).reshape(100,1)\n",
    "poliX_fit = poli_transform.fit_transform(X_fit)\n",
    "poliX_fit\n",
    "y_fit = poli_regression.predict(poliX_fit)\n",
    "\n",
    "plt.scatter(X_test, y_test)\n",
    "plt.plot(X_fit, y_fit, \"r-\", linewidth=2, label=\"Predictions\")\n",
    "plt.xlabel(\"$X$\", fontsize=18)\n",
    "plt.ylabel(\"$y$\", rotation=0, fontsize=18)\n",
    "plt.legend(loc=\"upper left\", fontsize=14);"
   ]
  },
  {
   "cell_type": "code",
   "execution_count": 134,
   "metadata": {},
   "outputs": [],
   "source": [
    "poli_transform = PolynomialFeatures(degree=3, include_bias = False)\n",
    "poliX = poli_transform.fit_transform(X_test)\n",
    "y_pred = poli_regression.predict(poliX)"
   ]
  },
  {
   "cell_type": "code",
   "execution_count": 135,
   "metadata": {},
   "outputs": [
    {
     "name": "stdout",
     "output_type": "stream",
     "text": [
      "Error medio Absoluto (MAE): 4.6058129615114\n",
      "Root Mean Squared Error: 6.209999522706197\n",
      "r2_score 0.5528239263527264\n"
     ]
    }
   ],
   "source": [
    "\n",
    "Poly_Mae = metrics.mean_absolute_error(y_test, y_pred)\n",
    "Poly_r2 = r2_score(y_test, y_pred )\n",
    "\n",
    "\n",
    "print('Error medio Absoluto (MAE):', metrics.mean_absolute_error(y_test, y_pred))\n",
    "print('Root Mean Squared Error:', np.sqrt(metrics.mean_squared_error(y_test, y_pred)))\n",
    "print('r2_score',r2_score(y_test, y_pred ))"
   ]
  },
  {
   "cell_type": "markdown",
   "metadata": {},
   "source": [
    "Ridge"
   ]
  },
  {
   "cell_type": "code",
   "execution_count": 136,
   "metadata": {},
   "outputs": [],
   "source": [
    "from sklearn.preprocessing import StandardScaler\n",
    "from sklearn.pipeline import Pipeline\n",
    "np.random.seed(42)"
   ]
  },
  {
   "cell_type": "code",
   "execution_count": 137,
   "metadata": {},
   "outputs": [],
   "source": [
    "X_train2=X_train.to_numpy().reshape(-1,1)"
   ]
  },
  {
   "cell_type": "code",
   "execution_count": 138,
   "metadata": {},
   "outputs": [
    {
     "data": {
      "text/plain": [
       "Pipeline(steps=[('poli_features', PolynomialFeatures(include_bias=False)),\n",
       "                ('Scaler', StandardScaler()),\n",
       "                ('linear_reg', LinearRegression())])"
      ]
     },
     "execution_count": 138,
     "metadata": {},
     "output_type": "execute_result"
    }
   ],
   "source": [
    "modelo = Pipeline([(\"poli_features\", PolynomialFeatures(degree=2, include_bias=False)),\n",
    "                  (\"Scaler\", StandardScaler()),\n",
    "                  (\"linear_reg\", LinearRegression())])\n",
    "modelo.fit(X_train, y_train)"
   ]
  },
  {
   "cell_type": "code",
   "execution_count": 139,
   "metadata": {},
   "outputs": [],
   "source": [
    "y_pred = modelo.predict(X_test)"
   ]
  },
  {
   "cell_type": "code",
   "execution_count": 140,
   "metadata": {},
   "outputs": [],
   "source": [
    "order = np.argsort(X_test.values.ravel())\n",
    "X_test2 = X_test.values.ravel()[order]\n",
    "y_test2 = y_test.values[order]\n",
    "y_pred2 = y_pred[order]"
   ]
  },
  {
   "cell_type": "code",
   "execution_count": 141,
   "metadata": {},
   "outputs": [
    {
     "data": {
      "image/png": "[encoded data removed]",
      "text/plain": [
       "<Figure size 640x480 with 1 Axes>"
      ]
     },
     "metadata": {},
     "output_type": "display_data"
    }
   ],
   "source": [
    "plt.plot(X, y, \"b.\")\n",
    "plt.plot(X_test2, y_pred2, \"r-\", linewidth=1, label=\"Predictions without Regularization\")\n",
    "plt.xlabel(\"$X$\", fontsize=18)\n",
    "plt.ylabel(\"$y$\", rotation=0, fontsize=18)\n",
    "plt.legend(loc=\"upper right\", fontsize=10);"
   ]
  },
  {
   "cell_type": "code",
   "execution_count": 142,
   "metadata": {},
   "outputs": [
    {
     "data": {
      "text/plain": [
       "Pipeline(steps=[('poli_features',\n",
       "                 PolynomialFeatures(degree=3, include_bias=False)),\n",
       "                ('Scaler', StandardScaler()),\n",
       "                ('ridge', Ridge(alpha=10, random_state=42, solver='cholesky'))])"
      ]
     },
     "execution_count": 142,
     "metadata": {},
     "output_type": "execute_result"
    }
   ],
   "source": [
    "from sklearn.linear_model import Ridge\n",
    "\n",
    "modelo_ridge = Pipeline([(\"poli_features\", PolynomialFeatures(degree=3, include_bias=False)),\n",
    "                  (\"Scaler\", StandardScaler()),\n",
    "                  (\"ridge\", Ridge(alpha = 10, solver = 'cholesky', random_state = 42))])\n",
    "modelo_ridge.fit(X_train, y_train)"
   ]
  },
  {
   "cell_type": "code",
   "execution_count": 143,
   "metadata": {},
   "outputs": [],
   "source": [
    "y_pred = modelo_ridge.predict(X_test)\n",
    "order = np.argsort(X_test.values.ravel())\n",
    "X_test2 = X_test.values.ravel()[order]\n",
    "y_test2 = y_test.values[order]\n",
    "y_pred2 = y_pred[order]"
   ]
  },
  {
   "cell_type": "code",
   "execution_count": 144,
   "metadata": {},
   "outputs": [
    {
     "data": {
      "image/png": "[encoded data removed]",
      "text/plain": [
       "<Figure size 640x480 with 1 Axes>"
      ]
     },
     "metadata": {},
     "output_type": "display_data"
    }
   ],
   "source": [
    "plt.plot(X_test, y_test, \"b.\")\n",
    "plt.plot(X_test2, y_pred2, \"r-\",label=\"Predictions with Ridge Regularization\")\n",
    "plt.xlabel(\"$X$\", fontsize=18)\n",
    "plt.ylabel(\"$y$\", rotation=0, fontsize=18)\n",
    "plt.legend(loc=\"upper right\", fontsize=10);"
   ]
  },
  {
   "cell_type": "code",
   "execution_count": 145,
   "metadata": {},
   "outputs": [
    {
     "name": "stdout",
     "output_type": "stream",
     "text": [
      "Error medio Absoluto (MAE): 4.711938540686241\n",
      "Root Mean Squared Error: 6.463399871996694\n",
      "r2_score 0.5155851196679577\n"
     ]
    }
   ],
   "source": [
    "\n",
    "\n",
    "Ridge_Mae = metrics.mean_absolute_error(y_test, y_pred)\n",
    "Ridge_r2 = r2_score(y_test, y_pred )\n",
    "print('Error medio Absoluto (MAE):', metrics.mean_absolute_error(y_test, y_pred))\n",
    "print('Root Mean Squared Error:', np.sqrt(metrics.mean_squared_error(y_test, y_pred)))\n",
    "print('r2_score',r2_score(y_test, y_pred ))"
   ]
  },
  {
   "cell_type": "markdown",
   "metadata": {},
   "source": [
    "Lasso"
   ]
  },
  {
   "cell_type": "code",
   "execution_count": 146,
   "metadata": {},
   "outputs": [
    {
     "name": "stderr",
     "output_type": "stream",
     "text": [
      "/Users/abrahamrt/opt/anaconda3/lib/python3.8/site-packages/sklearn/linear_model/_coordinate_descent.py:647: ConvergenceWarning: Objective did not converge. You might want to increase the number of iterations, check the scale of the features or consider increasing regularisation. Duality gap: 1.362e+04, tolerance: 9.470e+00\n",
      "  model = cd_fast.enet_coordinate_descent(\n"
     ]
    },
    {
     "data": {
      "text/plain": [
       "Pipeline(steps=[('poli_features',\n",
       "                 PolynomialFeatures(degree=3, include_bias=False)),\n",
       "                ('Scaler', StandardScaler()),\n",
       "                ('lasso', Lasso(alpha=0.0001, random_state=42))])"
      ]
     },
     "execution_count": 146,
     "metadata": {},
     "output_type": "execute_result"
    }
   ],
   "source": [
    "from sklearn.linear_model import Lasso\n",
    "\n",
    "modelo_lasso = Pipeline([(\"poli_features\", PolynomialFeatures(degree=3, include_bias=False)),\n",
    "                        (\"Scaler\", StandardScaler()),\n",
    "                        (\"lasso\", Lasso(alpha = 0.0001, random_state = 42))])\n",
    "modelo_lasso.fit(X_train, y_train)"
   ]
  },
  {
   "cell_type": "code",
   "execution_count": 147,
   "metadata": {},
   "outputs": [],
   "source": [
    "y_pred = modelo_lasso.predict(X_test)"
   ]
  },
  {
   "cell_type": "code",
   "execution_count": 148,
   "metadata": {},
   "outputs": [],
   "source": [
    "order = np.argsort(X_test.values.ravel())\n",
    "X_test2 = X_test.values.ravel()[order]\n",
    "y_test2 = y_test.values[order]\n",
    "y_pred2 = y_pred[order]"
   ]
  },
  {
   "cell_type": "code",
   "execution_count": 149,
   "metadata": {},
   "outputs": [
    {
     "data": {
      "image/png": "[encoded data removed]",
      "text/plain": [
       "<Figure size 640x480 with 1 Axes>"
      ]
     },
     "metadata": {},
     "output_type": "display_data"
    }
   ],
   "source": [
    "plt.plot(X_test, y_test, \"b.\")\n",
    "plt.plot(X_test2, y_pred2, \"r-\",label=\"Predictions with Lasso Regularization\")\n",
    "plt.xlabel(\"$X$\", fontsize=18)\n",
    "plt.ylabel(\"$y$\", rotation=0, fontsize=18)\n",
    "plt.legend(loc=\"upper right\", fontsize=10);"
   ]
  },
  {
   "cell_type": "code",
   "execution_count": 151,
   "metadata": {},
   "outputs": [
    {
     "name": "stdout",
     "output_type": "stream",
     "text": [
      "Error medio Absoluto (MAE): 4.563257381820652\n",
      "Root Mean Squared Error: 6.173935044214329\n",
      "r2_score 0.5580027810942358\n"
     ]
    }
   ],
   "source": [
    "\n",
    "Lasso_mae = metrics.mean_absolute_error(y_test, y_pred)\n",
    "Lasso_r2 = r2_score(y_test, y_pred )\n",
    "\n",
    "print('Error medio Absoluto (MAE):', metrics.mean_absolute_error(y_test, y_pred))\n",
    "print('Root Mean Squared Error:', np.sqrt(metrics.mean_squared_error(y_test, y_pred)))\n",
    "print('r2_score',r2_score(y_test, y_pred ))"
   ]
  },
  {
   "cell_type": "code",
   "execution_count": 152,
   "metadata": {},
   "outputs": [],
   "source": [
    "Metricas = list()\n",
    "Metricas.append('Lin')\n",
    "Metricas.append('Poly')\n",
    "Metricas.append('Ridge')\n",
    "Metricas.append('Lasso')"
   ]
  },
  {
   "cell_type": "code",
   "execution_count": 154,
   "metadata": {},
   "outputs": [],
   "source": [
    "MAE = list()\n",
    "MAE.append(linear_Mae)\n",
    "MAE.append(Poly_Mae)\n",
    "MAE.append(Ridge_Mae)\n",
    "MAE.append(Lasso_mae)"
   ]
  },
  {
   "cell_type": "code",
   "execution_count": 155,
   "metadata": {},
   "outputs": [
    {
     "name": "stdout",
     "output_type": "stream",
     "text": [
      "MAE\n",
      "[4.833241143988721, 4.6058129615114, 4.711938540686241, 4.563257381820652]\n"
     ]
    },
    {
     "data": {
      "image/png": "[encoded data removed]",
      "text/plain": [
       "<Figure size 800x400 with 1 Axes>"
      ]
     },
     "metadata": {},
     "output_type": "display_data"
    }
   ],
   "source": [
    "fig, ax = plt.subplots(figsize =(8, 4))\n",
    "print(\"MAE\")\n",
    "print(MAE)\n",
    "Metricas=list(Metricas)\n",
    "MAE=list(MAE)\n",
    "plt.bar(Metricas,MAE)\n",
    "\n",
    "\n",
    "plt.show()"
   ]
  },
  {
   "cell_type": "code",
   "execution_count": 156,
   "metadata": {},
   "outputs": [],
   "source": [
    "R2 = list()\n",
    "R2.append(linear_r2)\n",
    "R2.append(Poly_r2)\n",
    "R2.append(Ridge_r2)\n",
    "R2.append(Lasso_r2)"
   ]
  },
  {
   "cell_type": "code",
   "execution_count": 158,
   "metadata": {},
   "outputs": [
    {
     "name": "stdout",
     "output_type": "stream",
     "text": [
      "r2\n",
      "[0.48439969577999353, 0.5528239263527264, 0.5155851196679577, 0.5580027810942358]\n"
     ]
    },
    {
     "data": {
      "image/png": "[encoded data removed]",
      "text/plain": [
       "<Figure size 800x400 with 1 Axes>"
      ]
     },
     "metadata": {},
     "output_type": "display_data"
    }
   ],
   "source": [
    "fig, ax = plt.subplots(figsize =(8, 4))\n",
    "print(\"r2\")\n",
    "print(R2)\n",
    "R2=list(R2)\n",
    "plt.bar(Metricas,R2)\n",
    "\n",
    "\n",
    "plt.show()"
   ]
  },
  {
   "cell_type": "markdown",
   "metadata": {
    "id": "CfqcmLmxLoe9"
   },
   "source": [
    "#Ejercicio 2\n",
    "Realiza la regresión polinomial de los siguientes datos:"
   ]
  },
  {
   "cell_type": "code",
   "execution_count": 175,
   "metadata": {
    "id": "57bn0j38qGrg"
   },
   "outputs": [
    {
     "data": {
      "text/html": [
       "<div>\n",
       "<style scoped>\n",
       "    .dataframe tbody tr th:only-of-type {\n",
       "        vertical-align: middle;\n",
       "    }\n",
       "\n",
       "    .dataframe tbody tr th {\n",
       "        vertical-align: top;\n",
       "    }\n",
       "\n",
       "    .dataframe thead th {\n",
       "        text-align: right;\n",
       "    }\n",
       "</style>\n",
       "<table border=\"1\" class=\"dataframe\">\n",
       "  <thead>\n",
       "    <tr style=\"text-align: right;\">\n",
       "      <th></th>\n",
       "      <th>id</th>\n",
       "      <th>date</th>\n",
       "      <th>price</th>\n",
       "      <th>bedrooms</th>\n",
       "      <th>bathrooms</th>\n",
       "      <th>sqft_living</th>\n",
       "      <th>sqft_lot</th>\n",
       "      <th>floors</th>\n",
       "      <th>waterfront</th>\n",
       "      <th>view</th>\n",
       "      <th>...</th>\n",
       "      <th>grade</th>\n",
       "      <th>sqft_above</th>\n",
       "      <th>sqft_basement</th>\n",
       "      <th>yr_built</th>\n",
       "      <th>yr_renovated</th>\n",
       "      <th>zipcode</th>\n",
       "      <th>lat</th>\n",
       "      <th>long</th>\n",
       "      <th>sqft_living15</th>\n",
       "      <th>sqft_lot15</th>\n",
       "    </tr>\n",
       "  </thead>\n",
       "  <tbody>\n",
       "    <tr>\n",
       "      <th>16904</th>\n",
       "      <td>1725059259</td>\n",
       "      <td>20141125T000000</td>\n",
       "      <td>437500.0</td>\n",
       "      <td>3</td>\n",
       "      <td>1.00</td>\n",
       "      <td>1630</td>\n",
       "      <td>16393</td>\n",
       "      <td>1.0</td>\n",
       "      <td>0</td>\n",
       "      <td>0</td>\n",
       "      <td>...</td>\n",
       "      <td>7</td>\n",
       "      <td>1630</td>\n",
       "      <td>0</td>\n",
       "      <td>1969</td>\n",
       "      <td>0</td>\n",
       "      <td>98033</td>\n",
       "      <td>47.6576</td>\n",
       "      <td>-122.186</td>\n",
       "      <td>1880</td>\n",
       "      <td>23497</td>\n",
       "    </tr>\n",
       "    <tr>\n",
       "      <th>15620</th>\n",
       "      <td>2225079030</td>\n",
       "      <td>20141212T000000</td>\n",
       "      <td>180000.0</td>\n",
       "      <td>2</td>\n",
       "      <td>1.00</td>\n",
       "      <td>960</td>\n",
       "      <td>87991</td>\n",
       "      <td>1.5</td>\n",
       "      <td>0</td>\n",
       "      <td>0</td>\n",
       "      <td>...</td>\n",
       "      <td>5</td>\n",
       "      <td>960</td>\n",
       "      <td>0</td>\n",
       "      <td>1946</td>\n",
       "      <td>0</td>\n",
       "      <td>98014</td>\n",
       "      <td>47.6300</td>\n",
       "      <td>-121.900</td>\n",
       "      <td>1940</td>\n",
       "      <td>392040</td>\n",
       "    </tr>\n",
       "    <tr>\n",
       "      <th>19593</th>\n",
       "      <td>421059018</td>\n",
       "      <td>20141104T000000</td>\n",
       "      <td>257000.0</td>\n",
       "      <td>3</td>\n",
       "      <td>1.75</td>\n",
       "      <td>1397</td>\n",
       "      <td>18000</td>\n",
       "      <td>1.0</td>\n",
       "      <td>0</td>\n",
       "      <td>0</td>\n",
       "      <td>...</td>\n",
       "      <td>7</td>\n",
       "      <td>1397</td>\n",
       "      <td>0</td>\n",
       "      <td>1965</td>\n",
       "      <td>2014</td>\n",
       "      <td>98092</td>\n",
       "      <td>47.3388</td>\n",
       "      <td>-122.166</td>\n",
       "      <td>1950</td>\n",
       "      <td>31294</td>\n",
       "    </tr>\n",
       "    <tr>\n",
       "      <th>10500</th>\n",
       "      <td>7202350310</td>\n",
       "      <td>20141028T000000</td>\n",
       "      <td>476000.0</td>\n",
       "      <td>3</td>\n",
       "      <td>2.25</td>\n",
       "      <td>1630</td>\n",
       "      <td>3070</td>\n",
       "      <td>2.0</td>\n",
       "      <td>0</td>\n",
       "      <td>0</td>\n",
       "      <td>...</td>\n",
       "      <td>7</td>\n",
       "      <td>1630</td>\n",
       "      <td>0</td>\n",
       "      <td>2004</td>\n",
       "      <td>0</td>\n",
       "      <td>98053</td>\n",
       "      <td>47.6785</td>\n",
       "      <td>-122.030</td>\n",
       "      <td>1690</td>\n",
       "      <td>3200</td>\n",
       "    </tr>\n",
       "    <tr>\n",
       "      <th>4988</th>\n",
       "      <td>5710500010</td>\n",
       "      <td>20140610T000000</td>\n",
       "      <td>490000.0</td>\n",
       "      <td>3</td>\n",
       "      <td>2.00</td>\n",
       "      <td>2220</td>\n",
       "      <td>10275</td>\n",
       "      <td>2.0</td>\n",
       "      <td>0</td>\n",
       "      <td>0</td>\n",
       "      <td>...</td>\n",
       "      <td>9</td>\n",
       "      <td>1640</td>\n",
       "      <td>580</td>\n",
       "      <td>1980</td>\n",
       "      <td>0</td>\n",
       "      <td>98027</td>\n",
       "      <td>47.5304</td>\n",
       "      <td>-122.055</td>\n",
       "      <td>2300</td>\n",
       "      <td>9975</td>\n",
       "    </tr>\n",
       "    <tr>\n",
       "      <th>19215</th>\n",
       "      <td>4131900042</td>\n",
       "      <td>20140516T000000</td>\n",
       "      <td>2000000.0</td>\n",
       "      <td>5</td>\n",
       "      <td>4.25</td>\n",
       "      <td>6490</td>\n",
       "      <td>10862</td>\n",
       "      <td>2.0</td>\n",
       "      <td>0</td>\n",
       "      <td>3</td>\n",
       "      <td>...</td>\n",
       "      <td>11</td>\n",
       "      <td>3940</td>\n",
       "      <td>2550</td>\n",
       "      <td>1991</td>\n",
       "      <td>0</td>\n",
       "      <td>98040</td>\n",
       "      <td>47.5728</td>\n",
       "      <td>-122.205</td>\n",
       "      <td>3290</td>\n",
       "      <td>14080</td>\n",
       "    </tr>\n",
       "    <tr>\n",
       "      <th>11964</th>\n",
       "      <td>5272200045</td>\n",
       "      <td>20141113T000000</td>\n",
       "      <td>378000.0</td>\n",
       "      <td>3</td>\n",
       "      <td>1.50</td>\n",
       "      <td>1000</td>\n",
       "      <td>6914</td>\n",
       "      <td>1.0</td>\n",
       "      <td>0</td>\n",
       "      <td>0</td>\n",
       "      <td>...</td>\n",
       "      <td>7</td>\n",
       "      <td>1000</td>\n",
       "      <td>0</td>\n",
       "      <td>1947</td>\n",
       "      <td>0</td>\n",
       "      <td>98125</td>\n",
       "      <td>47.7144</td>\n",
       "      <td>-122.319</td>\n",
       "      <td>1000</td>\n",
       "      <td>6947</td>\n",
       "    </tr>\n",
       "    <tr>\n",
       "      <th>1159</th>\n",
       "      <td>6064800710</td>\n",
       "      <td>20141002T000000</td>\n",
       "      <td>315000.0</td>\n",
       "      <td>3</td>\n",
       "      <td>2.50</td>\n",
       "      <td>1570</td>\n",
       "      <td>2865</td>\n",
       "      <td>2.0</td>\n",
       "      <td>0</td>\n",
       "      <td>0</td>\n",
       "      <td>...</td>\n",
       "      <td>7</td>\n",
       "      <td>1570</td>\n",
       "      <td>0</td>\n",
       "      <td>2003</td>\n",
       "      <td>0</td>\n",
       "      <td>98118</td>\n",
       "      <td>47.5412</td>\n",
       "      <td>-122.288</td>\n",
       "      <td>1610</td>\n",
       "      <td>2582</td>\n",
       "    </tr>\n",
       "    <tr>\n",
       "      <th>17712</th>\n",
       "      <td>2929600035</td>\n",
       "      <td>20140627T000000</td>\n",
       "      <td>410000.0</td>\n",
       "      <td>3</td>\n",
       "      <td>1.00</td>\n",
       "      <td>2710</td>\n",
       "      <td>19000</td>\n",
       "      <td>2.0</td>\n",
       "      <td>0</td>\n",
       "      <td>3</td>\n",
       "      <td>...</td>\n",
       "      <td>7</td>\n",
       "      <td>2710</td>\n",
       "      <td>0</td>\n",
       "      <td>1950</td>\n",
       "      <td>0</td>\n",
       "      <td>98166</td>\n",
       "      <td>47.4462</td>\n",
       "      <td>-122.359</td>\n",
       "      <td>2150</td>\n",
       "      <td>19000</td>\n",
       "    </tr>\n",
       "    <tr>\n",
       "      <th>14892</th>\n",
       "      <td>3972300169</td>\n",
       "      <td>20141125T000000</td>\n",
       "      <td>195000.0</td>\n",
       "      <td>2</td>\n",
       "      <td>1.00</td>\n",
       "      <td>720</td>\n",
       "      <td>9520</td>\n",
       "      <td>1.0</td>\n",
       "      <td>0</td>\n",
       "      <td>0</td>\n",
       "      <td>...</td>\n",
       "      <td>6</td>\n",
       "      <td>720</td>\n",
       "      <td>0</td>\n",
       "      <td>1947</td>\n",
       "      <td>0</td>\n",
       "      <td>98155</td>\n",
       "      <td>47.7678</td>\n",
       "      <td>-122.316</td>\n",
       "      <td>1450</td>\n",
       "      <td>8612</td>\n",
       "    </tr>\n",
       "  </tbody>\n",
       "</table>\n",
       "<p>10 rows × 21 columns</p>\n",
       "</div>"
      ],
      "text/plain": [
       "               id             date      price  bedrooms  bathrooms  \\\n",
       "16904  1725059259  20141125T000000   437500.0         3       1.00   \n",
       "15620  2225079030  20141212T000000   180000.0         2       1.00   \n",
       "19593   421059018  20141104T000000   257000.0         3       1.75   \n",
       "10500  7202350310  20141028T000000   476000.0         3       2.25   \n",
       "4988   5710500010  20140610T000000   490000.0         3       2.00   \n",
       "19215  4131900042  20140516T000000  2000000.0         5       4.25   \n",
       "11964  5272200045  20141113T000000   378000.0         3       1.50   \n",
       "1159   6064800710  20141002T000000   315000.0         3       2.50   \n",
       "17712  2929600035  20140627T000000   410000.0         3       1.00   \n",
       "14892  3972300169  20141125T000000   195000.0         2       1.00   \n",
       "\n",
       "       sqft_living  sqft_lot  floors  waterfront  view  ...  grade  \\\n",
       "16904         1630     16393     1.0           0     0  ...      7   \n",
       "15620          960     87991     1.5           0     0  ...      5   \n",
       "19593         1397     18000     1.0           0     0  ...      7   \n",
       "10500         1630      3070     2.0           0     0  ...      7   \n",
       "4988          2220     10275     2.0           0     0  ...      9   \n",
       "19215         6490     10862     2.0           0     3  ...     11   \n",
       "11964         1000      6914     1.0           0     0  ...      7   \n",
       "1159          1570      2865     2.0           0     0  ...      7   \n",
       "17712         2710     19000     2.0           0     3  ...      7   \n",
       "14892          720      9520     1.0           0     0  ...      6   \n",
       "\n",
       "       sqft_above  sqft_basement  yr_built  yr_renovated  zipcode      lat  \\\n",
       "16904        1630              0      1969             0    98033  47.6576   \n",
       "15620         960              0      1946             0    98014  47.6300   \n",
       "19593        1397              0      1965          2014    98092  47.3388   \n",
       "10500        1630              0      2004             0    98053  47.6785   \n",
       "4988         1640            580      1980             0    98027  47.5304   \n",
       "19215        3940           2550      1991             0    98040  47.5728   \n",
       "11964        1000              0      1947             0    98125  47.7144   \n",
       "1159         1570              0      2003             0    98118  47.5412   \n",
       "17712        2710              0      1950             0    98166  47.4462   \n",
       "14892         720              0      1947             0    98155  47.7678   \n",
       "\n",
       "          long  sqft_living15  sqft_lot15  \n",
       "16904 -122.186           1880       23497  \n",
       "15620 -121.900           1940      392040  \n",
       "19593 -122.166           1950       31294  \n",
       "10500 -122.030           1690        3200  \n",
       "4988  -122.055           2300        9975  \n",
       "19215 -122.205           3290       14080  \n",
       "11964 -122.319           1000        6947  \n",
       "1159  -122.288           1610        2582  \n",
       "17712 -122.359           2150       19000  \n",
       "14892 -122.316           1450        8612  \n",
       "\n",
       "[10 rows x 21 columns]"
      ]
     },
     "execution_count": 175,
     "metadata": {},
     "output_type": "execute_result"
    }
   ],
   "source": [
    "df = pd.read_csv('https://raw.githubusercontent.com/marypazrf/bdd/main/kc_house_data.csv')\n",
    "df.sample(10)"
   ]
  },
  {
   "cell_type": "code",
   "execution_count": 176,
   "metadata": {
    "id": "n0fs14KoqI3M"
   },
   "outputs": [
    {
     "name": "stdout",
     "output_type": "stream",
     "text": [
      "<class 'pandas.core.frame.DataFrame'>\n",
      "RangeIndex: 21613 entries, 0 to 21612\n",
      "Data columns (total 21 columns):\n",
      " #   Column         Non-Null Count  Dtype  \n",
      "---  ------         --------------  -----  \n",
      " 0   id             21613 non-null  int64  \n",
      " 1   date           21613 non-null  object \n",
      " 2   price          21613 non-null  float64\n",
      " 3   bedrooms       21613 non-null  int64  \n",
      " 4   bathrooms      21613 non-null  float64\n",
      " 5   sqft_living    21613 non-null  int64  \n",
      " 6   sqft_lot       21613 non-null  int64  \n",
      " 7   floors         21613 non-null  float64\n",
      " 8   waterfront     21613 non-null  int64  \n",
      " 9   view           21613 non-null  int64  \n",
      " 10  condition      21613 non-null  int64  \n",
      " 11  grade          21613 non-null  int64  \n",
      " 12  sqft_above     21613 non-null  int64  \n",
      " 13  sqft_basement  21613 non-null  int64  \n",
      " 14  yr_built       21613 non-null  int64  \n",
      " 15  yr_renovated   21613 non-null  int64  \n",
      " 16  zipcode        21613 non-null  int64  \n",
      " 17  lat            21613 non-null  float64\n",
      " 18  long           21613 non-null  float64\n",
      " 19  sqft_living15  21613 non-null  int64  \n",
      " 20  sqft_lot15     21613 non-null  int64  \n",
      "dtypes: float64(5), int64(15), object(1)\n",
      "memory usage: 3.5+ MB\n"
     ]
    }
   ],
   "source": [
    "df.info()"
   ]
  },
  {
   "cell_type": "code",
   "execution_count": 177,
   "metadata": {
    "id": "1PNzDJZeqKhe"
   },
   "outputs": [
    {
     "data": {
      "text/html": [
       "<div>\n",
       "<style scoped>\n",
       "    .dataframe tbody tr th:only-of-type {\n",
       "        vertical-align: middle;\n",
       "    }\n",
       "\n",
       "    .dataframe tbody tr th {\n",
       "        vertical-align: top;\n",
       "    }\n",
       "\n",
       "    .dataframe thead th {\n",
       "        text-align: right;\n",
       "    }\n",
       "</style>\n",
       "<table border=\"1\" class=\"dataframe\">\n",
       "  <thead>\n",
       "    <tr style=\"text-align: right;\">\n",
       "      <th></th>\n",
       "      <th>id</th>\n",
       "      <th>price</th>\n",
       "      <th>bedrooms</th>\n",
       "      <th>bathrooms</th>\n",
       "      <th>sqft_living</th>\n",
       "      <th>sqft_lot</th>\n",
       "      <th>floors</th>\n",
       "      <th>waterfront</th>\n",
       "      <th>view</th>\n",
       "      <th>condition</th>\n",
       "      <th>grade</th>\n",
       "      <th>sqft_above</th>\n",
       "      <th>sqft_basement</th>\n",
       "      <th>yr_built</th>\n",
       "      <th>yr_renovated</th>\n",
       "      <th>zipcode</th>\n",
       "      <th>lat</th>\n",
       "      <th>long</th>\n",
       "      <th>sqft_living15</th>\n",
       "      <th>sqft_lot15</th>\n",
       "    </tr>\n",
       "  </thead>\n",
       "  <tbody>\n",
       "    <tr>\n",
       "      <th>count</th>\n",
       "      <td>2.161300e+04</td>\n",
       "      <td>2.161300e+04</td>\n",
       "      <td>21613.000000</td>\n",
       "      <td>21613.000000</td>\n",
       "      <td>21613.000000</td>\n",
       "      <td>2.161300e+04</td>\n",
       "      <td>21613.000000</td>\n",
       "      <td>21613.000000</td>\n",
       "      <td>21613.000000</td>\n",
       "      <td>21613.000000</td>\n",
       "      <td>21613.000000</td>\n",
       "      <td>21613.000000</td>\n",
       "      <td>21613.000000</td>\n",
       "      <td>21613.000000</td>\n",
       "      <td>21613.000000</td>\n",
       "      <td>21613.000000</td>\n",
       "      <td>21613.000000</td>\n",
       "      <td>21613.000000</td>\n",
       "      <td>21613.000000</td>\n",
       "      <td>21613.000000</td>\n",
       "    </tr>\n",
       "    <tr>\n",
       "      <th>mean</th>\n",
       "      <td>4.580302e+09</td>\n",
       "      <td>5.400881e+05</td>\n",
       "      <td>3.370842</td>\n",
       "      <td>2.114757</td>\n",
       "      <td>2079.899736</td>\n",
       "      <td>1.510697e+04</td>\n",
       "      <td>1.494309</td>\n",
       "      <td>0.007542</td>\n",
       "      <td>0.234303</td>\n",
       "      <td>3.409430</td>\n",
       "      <td>7.656873</td>\n",
       "      <td>1788.390691</td>\n",
       "      <td>291.509045</td>\n",
       "      <td>1971.005136</td>\n",
       "      <td>84.402258</td>\n",
       "      <td>98077.939805</td>\n",
       "      <td>47.560053</td>\n",
       "      <td>-122.213896</td>\n",
       "      <td>1986.552492</td>\n",
       "      <td>12768.455652</td>\n",
       "    </tr>\n",
       "    <tr>\n",
       "      <th>std</th>\n",
       "      <td>2.876566e+09</td>\n",
       "      <td>3.671272e+05</td>\n",
       "      <td>0.930062</td>\n",
       "      <td>0.770163</td>\n",
       "      <td>918.440897</td>\n",
       "      <td>4.142051e+04</td>\n",
       "      <td>0.539989</td>\n",
       "      <td>0.086517</td>\n",
       "      <td>0.766318</td>\n",
       "      <td>0.650743</td>\n",
       "      <td>1.175459</td>\n",
       "      <td>828.090978</td>\n",
       "      <td>442.575043</td>\n",
       "      <td>29.373411</td>\n",
       "      <td>401.679240</td>\n",
       "      <td>53.505026</td>\n",
       "      <td>0.138564</td>\n",
       "      <td>0.140828</td>\n",
       "      <td>685.391304</td>\n",
       "      <td>27304.179631</td>\n",
       "    </tr>\n",
       "    <tr>\n",
       "      <th>min</th>\n",
       "      <td>1.000102e+06</td>\n",
       "      <td>7.500000e+04</td>\n",
       "      <td>0.000000</td>\n",
       "      <td>0.000000</td>\n",
       "      <td>290.000000</td>\n",
       "      <td>5.200000e+02</td>\n",
       "      <td>1.000000</td>\n",
       "      <td>0.000000</td>\n",
       "      <td>0.000000</td>\n",
       "      <td>1.000000</td>\n",
       "      <td>1.000000</td>\n",
       "      <td>290.000000</td>\n",
       "      <td>0.000000</td>\n",
       "      <td>1900.000000</td>\n",
       "      <td>0.000000</td>\n",
       "      <td>98001.000000</td>\n",
       "      <td>47.155900</td>\n",
       "      <td>-122.519000</td>\n",
       "      <td>399.000000</td>\n",
       "      <td>651.000000</td>\n",
       "    </tr>\n",
       "    <tr>\n",
       "      <th>25%</th>\n",
       "      <td>2.123049e+09</td>\n",
       "      <td>3.219500e+05</td>\n",
       "      <td>3.000000</td>\n",
       "      <td>1.750000</td>\n",
       "      <td>1427.000000</td>\n",
       "      <td>5.040000e+03</td>\n",
       "      <td>1.000000</td>\n",
       "      <td>0.000000</td>\n",
       "      <td>0.000000</td>\n",
       "      <td>3.000000</td>\n",
       "      <td>7.000000</td>\n",
       "      <td>1190.000000</td>\n",
       "      <td>0.000000</td>\n",
       "      <td>1951.000000</td>\n",
       "      <td>0.000000</td>\n",
       "      <td>98033.000000</td>\n",
       "      <td>47.471000</td>\n",
       "      <td>-122.328000</td>\n",
       "      <td>1490.000000</td>\n",
       "      <td>5100.000000</td>\n",
       "    </tr>\n",
       "    <tr>\n",
       "      <th>50%</th>\n",
       "      <td>3.904930e+09</td>\n",
       "      <td>4.500000e+05</td>\n",
       "      <td>3.000000</td>\n",
       "      <td>2.250000</td>\n",
       "      <td>1910.000000</td>\n",
       "      <td>7.618000e+03</td>\n",
       "      <td>1.500000</td>\n",
       "      <td>0.000000</td>\n",
       "      <td>0.000000</td>\n",
       "      <td>3.000000</td>\n",
       "      <td>7.000000</td>\n",
       "      <td>1560.000000</td>\n",
       "      <td>0.000000</td>\n",
       "      <td>1975.000000</td>\n",
       "      <td>0.000000</td>\n",
       "      <td>98065.000000</td>\n",
       "      <td>47.571800</td>\n",
       "      <td>-122.230000</td>\n",
       "      <td>1840.000000</td>\n",
       "      <td>7620.000000</td>\n",
       "    </tr>\n",
       "    <tr>\n",
       "      <th>75%</th>\n",
       "      <td>7.308900e+09</td>\n",
       "      <td>6.450000e+05</td>\n",
       "      <td>4.000000</td>\n",
       "      <td>2.500000</td>\n",
       "      <td>2550.000000</td>\n",
       "      <td>1.068800e+04</td>\n",
       "      <td>2.000000</td>\n",
       "      <td>0.000000</td>\n",
       "      <td>0.000000</td>\n",
       "      <td>4.000000</td>\n",
       "      <td>8.000000</td>\n",
       "      <td>2210.000000</td>\n",
       "      <td>560.000000</td>\n",
       "      <td>1997.000000</td>\n",
       "      <td>0.000000</td>\n",
       "      <td>98118.000000</td>\n",
       "      <td>47.678000</td>\n",
       "      <td>-122.125000</td>\n",
       "      <td>2360.000000</td>\n",
       "      <td>10083.000000</td>\n",
       "    </tr>\n",
       "    <tr>\n",
       "      <th>max</th>\n",
       "      <td>9.900000e+09</td>\n",
       "      <td>7.700000e+06</td>\n",
       "      <td>33.000000</td>\n",
       "      <td>8.000000</td>\n",
       "      <td>13540.000000</td>\n",
       "      <td>1.651359e+06</td>\n",
       "      <td>3.500000</td>\n",
       "      <td>1.000000</td>\n",
       "      <td>4.000000</td>\n",
       "      <td>5.000000</td>\n",
       "      <td>13.000000</td>\n",
       "      <td>9410.000000</td>\n",
       "      <td>4820.000000</td>\n",
       "      <td>2015.000000</td>\n",
       "      <td>2015.000000</td>\n",
       "      <td>98199.000000</td>\n",
       "      <td>47.777600</td>\n",
       "      <td>-121.315000</td>\n",
       "      <td>6210.000000</td>\n",
       "      <td>871200.000000</td>\n",
       "    </tr>\n",
       "  </tbody>\n",
       "</table>\n",
       "</div>"
      ],
      "text/plain": [
       "                 id         price      bedrooms     bathrooms   sqft_living  \\\n",
       "count  2.161300e+04  2.161300e+04  21613.000000  21613.000000  21613.000000   \n",
       "mean   4.580302e+09  5.400881e+05      3.370842      2.114757   2079.899736   \n",
       "std    2.876566e+09  3.671272e+05      0.930062      0.770163    918.440897   \n",
       "min    1.000102e+06  7.500000e+04      0.000000      0.000000    290.000000   \n",
       "25%    2.123049e+09  3.219500e+05      3.000000      1.750000   1427.000000   \n",
       "50%    3.904930e+09  4.500000e+05      3.000000      2.250000   1910.000000   \n",
       "75%    7.308900e+09  6.450000e+05      4.000000      2.500000   2550.000000   \n",
       "max    9.900000e+09  7.700000e+06     33.000000      8.000000  13540.000000   \n",
       "\n",
       "           sqft_lot        floors    waterfront          view     condition  \\\n",
       "count  2.161300e+04  21613.000000  21613.000000  21613.000000  21613.000000   \n",
       "mean   1.510697e+04      1.494309      0.007542      0.234303      3.409430   \n",
       "std    4.142051e+04      0.539989      0.086517      0.766318      0.650743   \n",
       "min    5.200000e+02      1.000000      0.000000      0.000000      1.000000   \n",
       "25%    5.040000e+03      1.000000      0.000000      0.000000      3.000000   \n",
       "50%    7.618000e+03      1.500000      0.000000      0.000000      3.000000   \n",
       "75%    1.068800e+04      2.000000      0.000000      0.000000      4.000000   \n",
       "max    1.651359e+06      3.500000      1.000000      4.000000      5.000000   \n",
       "\n",
       "              grade    sqft_above  sqft_basement      yr_built  yr_renovated  \\\n",
       "count  21613.000000  21613.000000   21613.000000  21613.000000  21613.000000   \n",
       "mean       7.656873   1788.390691     291.509045   1971.005136     84.402258   \n",
       "std        1.175459    828.090978     442.575043     29.373411    401.679240   \n",
       "min        1.000000    290.000000       0.000000   1900.000000      0.000000   \n",
       "25%        7.000000   1190.000000       0.000000   1951.000000      0.000000   \n",
       "50%        7.000000   1560.000000       0.000000   1975.000000      0.000000   \n",
       "75%        8.000000   2210.000000     560.000000   1997.000000      0.000000   \n",
       "max       13.000000   9410.000000    4820.000000   2015.000000   2015.000000   \n",
       "\n",
       "            zipcode           lat          long  sqft_living15     sqft_lot15  \n",
       "count  21613.000000  21613.000000  21613.000000   21613.000000   21613.000000  \n",
       "mean   98077.939805     47.560053   -122.213896    1986.552492   12768.455652  \n",
       "std       53.505026      0.138564      0.140828     685.391304   27304.179631  \n",
       "min    98001.000000     47.155900   -122.519000     399.000000     651.000000  \n",
       "25%    98033.000000     47.471000   -122.328000    1490.000000    5100.000000  \n",
       "50%    98065.000000     47.571800   -122.230000    1840.000000    7620.000000  \n",
       "75%    98118.000000     47.678000   -122.125000    2360.000000   10083.000000  \n",
       "max    98199.000000     47.777600   -121.315000    6210.000000  871200.000000  "
      ]
     },
     "execution_count": 177,
     "metadata": {},
     "output_type": "execute_result"
    }
   ],
   "source": [
    "df.describe()"
   ]
  },
  {
   "cell_type": "code",
   "execution_count": 178,
   "metadata": {
    "id": "0KUD8T08qMmq"
   },
   "outputs": [],
   "source": [
    "df.drop('id', axis = 1, inplace = True)\n",
    "df.drop('date', axis = 1, inplace = True)\n",
    "df.drop('zipcode', axis = 1, inplace = True)\n",
    "df.drop('lat', axis = 1, inplace = True)\n",
    "df.drop('long', axis = 1, inplace = True)\n"
   ]
  },
  {
   "cell_type": "code",
   "execution_count": 179,
   "metadata": {
    "id": "r-jk_nHmqKpp"
   },
   "outputs": [
    {
     "data": {
      "image/png": "[encoded data removed]",
      "text/plain": [
       "<Figure size 1200x800 with 2 Axes>"
      ]
     },
     "metadata": {},
     "output_type": "display_data"
    }
   ],
   "source": [
    "plt.figure(figsize=(12,8)) \n",
    "sns.heatmap(df.corr(), annot=True, cmap='Dark2_r', linewidths = 2)\n",
    "plt.show()"
   ]
  },
  {
   "cell_type": "code",
   "execution_count": 180,
   "metadata": {
    "id": "p4zqCnFwq7Oc"
   },
   "outputs": [],
   "source": [
    "columns = df.columns.drop('price')\n",
    "\n",
    "features = columns\n",
    "label = ['price']\n",
    "\n",
    "X = df[features]\n",
    "y = df[label]"
   ]
  },
  {
   "cell_type": "code",
   "execution_count": 181,
   "metadata": {
    "id": "p91PEVPLq93-"
   },
   "outputs": [
    {
     "name": "stdout",
     "output_type": "stream",
     "text": [
      "Numero total de registros en la bdd: 21613\n",
      "**************************************************\n",
      "Numero total de registros en el training set: 19451\n",
      "Tamaño de X_train: (19451, 15)\n",
      "**************************************************\n",
      "Mumero total de registros en el test dataset: 2162\n",
      "Tamaño del X_test: (2162, 15)\n"
     ]
    }
   ],
   "source": [
    "from sklearn.model_selection import train_test_split\n",
    "X_train, X_test, y_train, y_test = train_test_split(X, y, test_size = 0.1, random_state = 101)\n",
    "\n",
    "print(f'Numero total de registros en la bdd: {len(X)}')\n",
    "print(\"*****\"*10)\n",
    "print(f'Numero total de registros en el training set: {len(X_train)}')\n",
    "print(f'Tamaño de X_train: {X_train.shape}')\n",
    "print(\"*****\"*10)\n",
    "print(f'Mumero total de registros en el test dataset: {len(X_test)}')\n",
    "print(f'Tamaño del X_test: {X_test.shape}')"
   ]
  },
  {
   "cell_type": "code",
   "execution_count": 182,
   "metadata": {
    "id": "0faHrN8-rv9V"
   },
   "outputs": [
    {
     "data": {
      "text/plain": [
       "LinearRegression()"
      ]
     },
     "execution_count": 182,
     "metadata": {},
     "output_type": "execute_result"
    }
   ],
   "source": [
    "linear_reg = LinearRegression(fit_intercept=True)\n",
    "linear_reg.fit(X_train, y_train)"
   ]
  },
  {
   "cell_type": "code",
   "execution_count": 183,
   "metadata": {},
   "outputs": [
    {
     "data": {
      "text/plain": [
       "array([6151359.26274115])"
      ]
     },
     "execution_count": 183,
     "metadata": {},
     "output_type": "execute_result"
    }
   ],
   "source": [
    "linear_reg.intercept_"
   ]
  },
  {
   "cell_type": "code",
   "execution_count": 184,
   "metadata": {},
   "outputs": [
    {
     "name": "stdout",
     "output_type": "stream",
     "text": [
      "Error medio Absoluto (MAE): 137480.13882731184\n",
      "Root Mean Squared Error: 232133.36762408746\n",
      "r2_score 0.6579723205007443\n"
     ]
    }
   ],
   "source": [
    "y_pred = linear_reg.predict(X_test)\n",
    "\n",
    "linear_mae=metrics.mean_absolute_error(y_test,y_pred)\n",
    "linear_r2=r2_score(y_test,y_pred)\n",
    "print('Error medio Absoluto (MAE):', metrics.mean_absolute_error(y_test, y_pred))\n",
    "print('Root Mean Squared Error:', np.sqrt(metrics.mean_squared_error(y_test, y_pred)))\n",
    "print('r2_score', r2_score(y_test, y_pred))\n"
   ]
  },
  {
   "cell_type": "code",
   "execution_count": 185,
   "metadata": {},
   "outputs": [
    {
     "data": {
      "text/plain": [
       "array([[5.00000000e+00, 2.75000000e+00, 3.75000000e+03, ...,\n",
       "        7.06230720e+10, 1.64221278e+11, 3.81867106e+11],\n",
       "       [4.00000000e+00, 4.50000000e+00, 5.25000000e+03, ...,\n",
       "        3.02200000e+11, 5.84478976e+12, 1.13042910e+14],\n",
       "       [3.00000000e+00, 2.50000000e+00, 2.88000000e+03, ...,\n",
       "        9.21194624e+10, 3.27210820e+11, 1.16226168e+12],\n",
       "       ...,\n",
       "       [3.00000000e+00, 2.25000000e+00, 1.78000000e+03, ...,\n",
       "        1.73857625e+10, 8.77923438e+10, 4.43322266e+11],\n",
       "       [2.00000000e+00, 1.00000000e+00, 1.15000000e+03, ...,\n",
       "        9.24639408e+09, 2.73030912e+10, 8.06215680e+10],\n",
       "       [3.00000000e+00, 1.00000000e+00, 1.45000000e+03, ...,\n",
       "        8.37158400e+09, 6.23039040e+10, 4.63684824e+11]])"
      ]
     },
     "execution_count": 185,
     "metadata": {},
     "output_type": "execute_result"
    }
   ],
   "source": [
    "poli_transform = PolynomialFeatures(degree=3, include_bias = False)\n",
    "poliX = poli_transform.fit_transform(X_train)\n",
    "poliX"
   ]
  },
  {
   "cell_type": "code",
   "execution_count": 186,
   "metadata": {},
   "outputs": [
    {
     "data": {
      "text/plain": [
       "LinearRegression()"
      ]
     },
     "execution_count": 186,
     "metadata": {},
     "output_type": "execute_result"
    }
   ],
   "source": [
    "poli_regression = LinearRegression(fit_intercept=True)\n",
    "poli_regression.fit(poliX, y_train)"
   ]
  },
  {
   "cell_type": "code",
   "execution_count": 187,
   "metadata": {},
   "outputs": [
    {
     "data": {
      "text/plain": [
       "array([[-2.61761166e+02, -1.55869087e+02,  6.32972451e+01,\n",
       "        -1.09008961e+01,  4.41081406e+00, -1.86506286e+00,\n",
       "        -3.34216437e-01,  1.76072826e-01,  2.54411630e-01,\n",
       "         3.90889152e+00,  1.29018995e+00, -1.29186035e-01,\n",
       "         8.63416346e-02,  1.72610892e+00, -1.12927619e+01,\n",
       "         7.61155366e-01, -1.50692075e-01, -4.44253135e+00,\n",
       "        -4.87123194e+00, -3.18801098e-01, -8.81322684e-02,\n",
       "        -1.36279839e-01,  1.04732076e+00,  1.00500569e+00,\n",
       "        -8.45396347e+00,  4.01064938e+00,  3.53222531e+02,\n",
       "         3.67315202e+00, -9.50951071e+00, -2.40985502e+01,\n",
       "        -2.64704337e-01, -1.27822027e+02, -5.83165380e+01,\n",
       "        -4.30167458e-01, -5.88432348e-02, -7.40562705e-02,\n",
       "        -4.69740512e-02, -3.33553023e-01, -1.04364590e+02,\n",
       "        -2.34573227e+01, -1.08429160e+02, -2.46269185e+00,\n",
       "        -1.05467365e+02,  8.62305205e+01, -3.83503383e-01,\n",
       "         2.91016475e-02, -3.17708531e+02, -2.01582258e+01,\n",
       "        -5.67576203e+01,  1.34208578e+02,  1.09252685e+02,\n",
       "         2.25255391e-01, -6.08757690e-01,  6.43259626e-01,\n",
       "        -2.60546416e-01,  1.13430522e+00, -1.59569967e-01,\n",
       "         2.31584964e-05,  6.75571949e+01, -2.68271381e+01,\n",
       "         1.45674796e+01,  2.23366254e+01,  1.32605386e+01,\n",
       "         2.05285887e-02,  8.56663432e-03, -8.19413269e-02,\n",
       "        -2.04551149e-01, -7.70978539e-02,  3.98347886e-04,\n",
       "        -5.40813831e-01, -6.24443607e-02, -1.38539414e-01,\n",
       "        -4.12310168e-01, -1.08289311e+00, -2.72648727e+02,\n",
       "        -4.50597894e+01, -2.94931931e+02, -3.40193265e+00,\n",
       "        -2.94426655e+02, -9.82177713e+01, -1.60543616e-02,\n",
       "        -1.64558320e-01, -1.09875196e-01, -1.63423452e-01,\n",
       "        -1.75915655e+01, -2.56665565e+00, -1.56158401e+01,\n",
       "         1.80987949e-01, -1.92312648e+01, -1.12267418e+02,\n",
       "        -1.22971924e-01, -1.05240006e-01, -1.47130778e-01,\n",
       "        -4.39360084e+01, -1.28215922e+01, -4.82969313e+01,\n",
       "        -4.48453110e+00, -6.04224123e+01, -2.93546634e+01,\n",
       "         5.03654628e-01,  6.19698835e-01,  1.09926768e+02,\n",
       "         2.42818112e+01,  1.34281451e+02, -1.76977997e+00,\n",
       "         1.26903261e+02,  1.21566825e+01,  6.97655414e-01,\n",
       "         8.53785167e+01,  2.38741588e+01,  8.55673970e+01,\n",
       "         4.08716845e-01,  9.10191361e+01, -1.09752354e+01,\n",
       "        -1.81153561e+00,  2.03679800e+00,  1.35266404e+00,\n",
       "        -1.80872996e+00,  1.07192555e+00, -2.54103864e-03,\n",
       "        -2.64555929e+00, -7.09405872e-01,  1.54817634e+00,\n",
       "         6.23749933e-02, -1.57033222e-01, -1.91202070e+01,\n",
       "         4.61788481e+01,  1.73605101e+00,  1.27096754e-01,\n",
       "        -4.53202352e+01,  1.76517867e-01, -2.01114993e-02,\n",
       "        -2.03473441e+00,  1.96609685e-01, -1.04710156e-03,\n",
       "         1.10261848e+02, -2.71961685e+00,  5.77146569e+00,\n",
       "         4.50113161e-01,  4.12819751e-01, -7.72492580e-01,\n",
       "        -3.02255540e+00,  7.55719144e+00, -1.97636078e-01,\n",
       "        -3.71556035e+00,  9.48702613e+00, -5.75474124e+00,\n",
       "         7.32373371e+00, -4.74865859e+00,  4.90744607e-01,\n",
       "        -1.15895951e+00, -3.97882861e+00,  3.25214263e-01,\n",
       "        -1.82769510e+00, -1.19499525e-01,  2.31788505e-01,\n",
       "        -1.55011119e+00,  1.35414492e-01, -1.55665668e+01,\n",
       "         1.15877382e+01, -3.71402733e+01, -3.30563042e+01,\n",
       "         6.33963593e+01,  9.24395697e-01,  4.82312613e-03,\n",
       "        -8.13857500e-04, -2.21969399e+01,  3.04481308e+01,\n",
       "         7.88647174e+00,  1.35548746e-01, -2.59760169e-01,\n",
       "         1.17885653e-02, -6.96228783e-03,  4.22701504e-02,\n",
       "        -6.94555782e-02, -5.54279651e-02, -4.99581548e-04,\n",
       "         1.96171442e-06, -9.07950423e-02, -1.75220597e-01,\n",
       "        -7.09152511e-01, -8.41138601e-01,  5.05086213e-01,\n",
       "        -7.41204075e-05, -6.75217994e-04,  1.02231476e-03,\n",
       "        -8.28770464e-04, -1.48107921e-04,  3.55332896e-06,\n",
       "        -2.91352129e+00, -1.82652951e-01, -1.36514812e+00,\n",
       "         1.11085626e+00, -4.34713222e-01,  1.54189882e+02,\n",
       "        -1.76386822e+02, -3.97957829e+01, -6.76195531e+00,\n",
       "        -5.60283276e+01, -6.13835838e-01, -8.80568516e-02,\n",
       "        -5.30102151e-01, -3.31277367e-01, -5.92665699e-01,\n",
       "         1.13882385e+02, -8.34342545e+01, -1.33161983e+02,\n",
       "         8.38954828e+01, -1.22340568e+02,  6.55071152e+00,\n",
       "        -8.35135457e-01,  1.71878795e+00, -1.04160728e-01,\n",
       "         5.62306827e+00,  2.26340346e+00, -1.31902364e+00,\n",
       "         2.73756455e+00, -1.44499312e+01, -1.08266115e-02,\n",
       "         4.51813167e+00, -5.30296400e-01,  2.51727163e+01,\n",
       "        -2.50371676e+01, -1.87399658e+01, -3.62403691e+01,\n",
       "         1.09981530e+01,  5.20170488e-01,  8.88349260e-01,\n",
       "        -9.60520601e+00,  9.34544586e+00,  3.37878876e+01,\n",
       "         5.39022930e+01, -2.75455216e+01, -2.15453056e-01,\n",
       "         1.62233213e-03,  1.01580477e-02, -1.19305516e-01,\n",
       "        -5.68348653e-02,  2.10022464e-02, -5.90620956e-04,\n",
       "        -1.71223615e-02,  1.61571680e-01, -1.26207784e-02,\n",
       "        -7.64323598e-02,  9.78190393e-05, -1.50834593e-01,\n",
       "         1.77177974e-01, -5.12678416e-02,  1.15952219e-02,\n",
       "        -2.68721695e-01,  1.10123180e-01,  1.30907872e-03,\n",
       "         8.65744487e-02,  3.83636284e-05, -3.54532925e-06,\n",
       "        -8.42944893e-01, -1.18300284e+01,  4.30192724e-01,\n",
       "        -1.50721851e+00, -2.77349417e-01, -7.21254930e-02,\n",
       "        -9.03317493e-01,  1.07356528e-01,  1.73723282e+01,\n",
       "        -2.92023566e+01,  3.90404238e+01,  5.91006916e+01,\n",
       "        -4.23543257e+01,  3.54049728e-01,  1.14536477e-02,\n",
       "        -2.56346327e-04,  1.36635495e+01,  3.36501047e+00,\n",
       "        -5.49676626e+00, -2.26468520e+01, -3.72213406e+00,\n",
       "         5.78674224e-02, -4.64115318e-02,  1.42088365e-01,\n",
       "         4.26735438e-03,  2.29162070e-02, -2.77127274e-04,\n",
       "         6.34994843e-07, -9.71948349e-02,  1.58950516e+01,\n",
       "         6.08578734e-01,  2.96256240e-01, -1.72358180e+00,\n",
       "         1.21310613e-03, -1.47464121e-03,  3.22664630e-02,\n",
       "        -4.17253256e-03,  8.71750208e-04,  1.37965471e-05,\n",
       "        -1.11828006e+00, -3.79625843e-01, -6.44509736e-01,\n",
       "        -6.25763778e-01, -2.09838459e-01, -9.78988545e+00,\n",
       "         2.34534350e+01, -4.35082255e+01, -5.08096425e+01,\n",
       "         2.20530982e+01, -1.03178953e+00, -5.88538182e-02,\n",
       "        -3.04295589e-01, -1.57330962e-01, -5.11037843e-01,\n",
       "        -1.84368248e+02,  1.87733258e+02, -8.27908838e+01,\n",
       "         1.01662316e+02,  6.07647373e+01,  3.50192231e-01,\n",
       "        -5.41610952e-01,  2.72643548e-01, -2.59189762e-01,\n",
       "        -2.44410989e+01,  1.89443327e+01,  1.16788759e+00,\n",
       "        -4.09344085e+00,  2.81891736e+01, -1.05419919e+00,\n",
       "         2.76034208e-01,  2.74342158e-01, -1.10098042e+01,\n",
       "        -1.16370478e+01, -9.38401757e+00,  7.23298702e+00,\n",
       "         5.06311949e+01, -1.31377933e+00, -1.85435986e+00,\n",
       "         3.39813669e+01, -3.77035010e+01, -4.33332796e+01,\n",
       "        -7.25662200e+01,  2.81250113e+01,  9.69254213e-01,\n",
       "        -1.29919763e-01,  1.87785249e-01,  9.00715059e-03,\n",
       "         1.29952445e-02,  1.38322634e-02, -1.00259083e-03,\n",
       "        -2.34199079e-01,  1.33084003e-01, -8.72773474e-03,\n",
       "         9.08735394e-03,  7.26848486e-04,  1.58691414e-01,\n",
       "         1.30962268e-01, -3.68200862e-02, -4.58298641e-02,\n",
       "         5.83534355e-02,  1.55764253e-02,  3.50599155e-03,\n",
       "        -8.09637766e-02,  5.81424125e-04, -1.14962391e-05,\n",
       "         8.21394071e-04, -2.88401702e-03,  4.50405544e-02,\n",
       "        -4.97233914e-02, -2.55520149e-03, -6.00687487e-03,\n",
       "        -5.36953322e-03, -8.41019005e-05, -4.28137266e-04,\n",
       "         9.72424038e-04,  4.24944282e-05, -5.30450592e-04,\n",
       "        -1.22991625e-02,  2.67530494e-02,  8.92626654e-04,\n",
       "        -8.32279389e-03,  6.32036855e-04,  1.08071539e-03,\n",
       "        -4.91359344e-04,  2.41232115e-02, -6.09150404e-03,\n",
       "        -3.24603258e-04, -2.62089456e-05, -2.51451860e-03,\n",
       "         2.82617232e-02, -2.71952306e+01, -1.26656094e+02,\n",
       "         7.28150938e+00, -2.83271057e+01, -3.68976340e+01,\n",
       "        -1.10780744e-01,  1.55824858e-01,  5.27904869e-01,\n",
       "         4.37662641e-02, -1.56570078e-01, -3.75567412e-04,\n",
       "        -2.01582184e+01, -1.99308591e+01,  2.00898079e+01,\n",
       "        -1.76278113e+01,  4.24832993e-02, -9.22066976e-02,\n",
       "         5.06257068e-01,  3.67669876e-02, -2.71314867e-02,\n",
       "         4.12045209e-03,  3.59331462e+00,  1.00557297e+01,\n",
       "        -1.14041818e+00,  8.68840548e-03, -1.12429715e-02,\n",
       "        -1.54900173e-02, -1.95777106e-02,  1.75866851e-02,\n",
       "         1.82244850e-05,  8.20850339e+00, -5.92535763e+00,\n",
       "        -2.49920399e-02,  1.89839650e-02, -9.22032262e-02,\n",
       "         5.51234540e-02,  9.33521312e-02,  3.01515894e-04,\n",
       "         1.37664487e+01, -2.91511309e-02,  2.38020769e-02,\n",
       "        -1.10357682e-01, -4.20827131e-03,  2.28825188e-02,\n",
       "        -2.49182522e-04,  9.82230967e-04, -1.75720498e-03,\n",
       "        -7.19056311e-04,  3.08039777e-05, -4.12000854e-04,\n",
       "         1.12781086e-02, -3.81024244e-04, -3.11924101e-05,\n",
       "         4.81392888e-05,  7.49011657e-04,  9.61238363e-03,\n",
       "         3.11327250e-04, -1.80730109e-04,  6.16448076e-04,\n",
       "        -1.33447102e-03,  1.78099639e-04, -1.21227822e-04,\n",
       "         4.37234933e-05, -4.48400840e-04, -2.18879065e-03,\n",
       "         9.46291347e-03,  2.75690581e-12,  4.82325253e-07,\n",
       "         6.85631986e-05,  1.05529711e-06, -1.93493716e-06,\n",
       "         4.12793599e-07, -2.67530519e-02, -2.67530515e-02,\n",
       "        -1.51111246e-08,  6.43356947e-09,  3.08980974e-09,\n",
       "        -1.05870868e-11, -2.44612726e+00,  3.10779896e+00,\n",
       "        -5.24049427e-01, -9.65944156e-02,  9.41298975e-01,\n",
       "         8.28742073e-04,  6.06900003e-05, -3.79871499e-02,\n",
       "        -1.38067869e-03,  1.92163492e-03, -3.01102268e-06,\n",
       "        -2.68271407e+01,  5.26616093e+00, -1.56227957e+01,\n",
       "         3.57517083e+00, -4.35677604e-03, -3.96592773e-03,\n",
       "        -3.26724592e-02,  6.25263322e-03,  3.60665507e-02,\n",
       "         4.07326490e-04, -2.94801504e-01,  1.41094642e-01,\n",
       "        -2.05557443e-01, -1.08014784e-04,  7.38534936e-04,\n",
       "        -6.35248418e-03, -3.23601712e-03, -3.84585102e-04,\n",
       "        -1.65947566e-06, -4.81100218e-01, -8.34784830e-01,\n",
       "         5.10487758e-04,  5.71619672e-04, -7.22143134e-03,\n",
       "         6.09920921e-04,  6.28852389e-04, -9.46779146e-07,\n",
       "         9.82609183e-01, -7.98607023e-04,  3.58427636e-04,\n",
       "        -1.09919343e-02,  4.98322988e-04, -7.40194961e-04,\n",
       "         2.81588865e-06, -2.12390810e-02, -1.22625945e-02,\n",
       "         3.02531375e-04,  2.91461816e-05,  2.51356172e-03,\n",
       "        -2.82617318e-02,  8.97797036e-03,  3.06986265e-04,\n",
       "         3.38880907e-05,  2.51345211e-03, -2.82617413e-02,\n",
       "         4.99999344e-05,  1.06306189e-04,  3.76260935e-05,\n",
       "        -2.07754327e-07,  3.34520514e-07, -9.26616381e-07,\n",
       "        -5.26836712e-09,  6.78180489e-07,  1.72962611e-09,\n",
       "        -4.30233627e-11,  2.81394770e-01, -6.76535374e-02,\n",
       "         5.81309203e-01, -1.18311466e+00, -6.52478197e-01,\n",
       "         8.47583950e+01, -1.11953626e+02, -9.30942515e+01,\n",
       "        -1.05108143e+01,  9.97570706e+01, -5.34103182e-01,\n",
       "        -6.24441196e-02, -1.51872690e-01, -1.90359241e-01,\n",
       "        -4.23555387e-01,  1.24070249e+01, -1.39063119e+02,\n",
       "        -9.68753973e+01,  3.14967000e+01, -1.19028415e+01,\n",
       "         1.04545636e+01,  1.96718553e-01, -4.92533054e-01,\n",
       "        -5.84899571e-01,  1.27862768e+02, -1.20581258e+02,\n",
       "        -1.05025632e+02,  3.88669685e+01, -1.00312156e+01,\n",
       "         9.86918675e-02, -1.85541121e-01, -1.36512991e-03,\n",
       "         6.31924913e+01, -9.15195971e+01,  6.02519847e+00,\n",
       "        -6.54932836e+01, -1.18133291e+01,  3.30886045e-02,\n",
       "        -1.17676844e+00, -8.82161916e+01,  5.13185577e+01,\n",
       "         1.07957517e+01, -7.05708823e+00,  1.00167896e+02,\n",
       "        -2.52361032e-01,  7.27157822e-02, -1.83496865e-01,\n",
       "        -2.09330410e-02,  4.52847810e-02,  1.39415477e-02,\n",
       "         3.66707802e-04,  3.39322303e-01,  5.48838008e-01,\n",
       "        -1.51850251e-03, -1.70509662e-01, -7.48233310e-04,\n",
       "         2.05257120e-01, -5.75716040e-02, -5.64745173e-02,\n",
       "         5.47210688e-02,  3.49000754e-02,  1.28647593e-01,\n",
       "         2.58320889e-03, -5.13698974e-02, -8.65883034e-04,\n",
       "        -1.51283396e-06, -1.60549934e-02, -1.64557519e-01,\n",
       "        -1.09875719e-01, -1.63422646e-01, -1.75915632e+01,\n",
       "        -2.56665518e+00, -1.56158415e+01,  1.80988176e-01,\n",
       "        -1.92312649e+01, -1.12267418e+02, -6.75394243e-01,\n",
       "        -1.13398669e+00, -1.09070285e+00,  2.58008511e+02,\n",
       "        -2.77939370e+02, -2.53380249e+02, -1.34313856e+02,\n",
       "         8.11587311e+00,  1.63411603e+00, -4.39025626e-01,\n",
       "        -2.60951631e-01,  7.22084007e+00,  1.28689678e+01,\n",
       "        -1.53578160e+02,  8.30868002e+01,  1.43865346e+02,\n",
       "         9.59408375e+00, -1.12767317e+00,  9.71872824e+01,\n",
       "        -1.14815094e+02, -1.93967463e+02, -1.34152618e+02,\n",
       "         7.76745955e+01, -7.51001911e+00,  7.50844123e-02,\n",
       "        -3.26011462e-02, -8.56120721e-01, -1.50340976e-01,\n",
       "         7.00806126e-02, -1.27422828e-02, -5.96055488e-02,\n",
       "         1.36237779e+00,  1.87107960e-01, -9.72121087e-02,\n",
       "         1.68626597e-02,  1.61447890e+00, -3.62541074e+00,\n",
       "        -1.13191359e-01,  1.06332739e-01,  4.29463539e+00,\n",
       "        -2.44705740e-01, -5.06223902e-03, -2.71457011e-01,\n",
       "        -4.36756992e-05,  2.80522236e-05,  3.29231770e-02,\n",
       "        -2.48204381e+00, -9.87607221e-01, -2.89530510e+00,\n",
       "         6.48861972e+00,  8.31358626e-02,  5.98705017e+00,\n",
       "         1.56280883e+00,  3.30678273e-01, -7.41873643e-01,\n",
       "         1.14117644e+00,  1.62504731e+01, -6.19474344e+00,\n",
       "        -5.56972149e+00, -3.04775266e+01, -1.69135598e+01,\n",
       "         6.15735202e-01, -6.90134114e-01, -5.22460432e+00,\n",
       "         4.08418614e+00,  2.14569239e+01, -2.11256489e+00,\n",
       "        -8.08362198e+00, -1.49865292e-01, -3.55939332e-02,\n",
       "         4.42818426e-02,  1.91710992e-02,  6.51454409e-03,\n",
       "        -2.98012073e-02,  9.25526066e-04, -5.55249671e-02,\n",
       "        -3.46604696e-02, -2.60922101e-02,  4.73884694e-02,\n",
       "        -9.13292396e-04,  1.55494270e-02,  5.96653965e-01,\n",
       "         8.49387915e-02,  1.45312933e-02, -5.71323480e-01,\n",
       "         3.75525037e-02,  1.50940876e-03,  5.55582484e-03,\n",
       "         1.52060907e-04, -1.09171120e-06,  1.64356177e+00,\n",
       "        -1.42233745e+00,  6.31340441e+00,  1.89509898e+00,\n",
       "         3.67700556e+00, -1.06173061e+02, -1.74336311e+01,\n",
       "        -3.37047647e-01,  1.19917453e-01, -1.44229303e+01,\n",
       "         8.49757265e+00,  2.12537427e+00, -3.79567187e+00,\n",
       "         1.12065152e+01,  8.64455650e-01, -4.46185944e-02,\n",
       "         1.96238446e-02, -1.52935810e-01,  7.31382859e-02,\n",
       "         1.31155234e-01,  1.12657232e-05, -6.39235326e-04,\n",
       "         6.07319491e-02, -1.80146344e-02, -3.78031512e-02,\n",
       "         2.95599137e-04, -2.43887842e-03, -2.16308403e-01,\n",
       "        -1.14815171e-01, -5.82656502e-03,  8.29007208e-01,\n",
       "        -2.21477048e-01,  1.78926038e-03, -7.33301563e-02,\n",
       "        -3.21840803e-03,  9.31189674e-06, -4.59432008e+00,\n",
       "         7.60229282e+00,  6.16415589e+00,  4.71746442e+00,\n",
       "         4.29418197e+00, -2.34447088e+01, -3.32248982e-01,\n",
       "         9.00641302e-03, -3.81769183e-02, -7.54618059e-02,\n",
       "        -9.57298902e-02,  7.52454732e-02, -2.26944302e-04,\n",
       "         6.19792040e-02, -3.48919808e-02,  9.15220088e-02,\n",
       "        -5.23543301e-02,  5.16391102e-05, -8.23710809e-02,\n",
       "        -3.77098787e-04,  9.28461510e-02,  6.10596430e-03,\n",
       "        -6.89804203e-02,  1.29712791e-01, -2.20648963e-04,\n",
       "        -6.47179258e-02,  5.80283102e-04, -1.28649593e-07,\n",
       "        -1.69534490e-03, -1.11664034e-03,  9.23853607e-04,\n",
       "         1.88341106e-05,  9.47268431e-04,  1.02189382e-03,\n",
       "         4.45738743e-04, -1.85110737e-03, -8.28119829e-05,\n",
       "         9.22483066e-04,  3.70568567e-03, -9.28732460e-04,\n",
       "         2.11241475e-04, -2.31399202e-03,  1.41745745e-03,\n",
       "         1.03972975e-03,  3.86630379e-05, -4.84191551e-05,\n",
       "         4.07226596e-04,  2.18946569e-03, -9.46290403e-03,\n",
       "         2.76715060e-04,  5.59791555e-04,  7.84401464e-05,\n",
       "        -3.61829339e-04,  2.68618540e-03, -8.28541267e-04,\n",
       "        -2.42276185e-04, -8.32966524e-04,  1.49155905e-03,\n",
       "        -6.97106956e-04, -5.11867274e-05, -5.04224976e-05,\n",
       "         4.29051874e-04,  2.19116121e-03, -9.46288435e-03,\n",
       "         6.68546715e-03, -6.50492550e-02, -1.03957374e-03,\n",
       "        -6.70132647e-05,  1.02545495e-01,  3.52896791e-04,\n",
       "        -3.04275574e-05,  1.34061667e-03, -9.30460802e-05,\n",
       "         5.31003365e-07, -3.83916540e-02, -6.77276452e-04,\n",
       "         2.98324464e-05, -4.19910752e-05,  3.28741643e-06,\n",
       "         1.72515985e-08,  3.78506990e-05, -1.09897342e-06,\n",
       "        -1.20754344e-08,  1.54596336e-11]])"
      ]
     },
     "execution_count": 187,
     "metadata": {},
     "output_type": "execute_result"
    }
   ],
   "source": [
    "poli_regression.coef_"
   ]
  },
  {
   "cell_type": "code",
   "execution_count": 188,
   "metadata": {},
   "outputs": [],
   "source": [
    "poliX = poli_transform.fit_transform(X_test)\n",
    "poliX\n",
    "y_pred = poli_regression.predict(poliX)"
   ]
  },
  {
   "cell_type": "code",
   "execution_count": 189,
   "metadata": {},
   "outputs": [
    {
     "name": "stdout",
     "output_type": "stream",
     "text": [
      "Error medio Absoluto (MAE): 148002.97899708702\n",
      "Root Mean Squared Error: 262611.5526195036\n",
      "r2_score 0.5622624883130176\n"
     ]
    }
   ],
   "source": [
    "Poly_mae=metrics.mean_absolute_error(y_test,y_pred)\n",
    "Poly_r2=r2_score(y_test,y_pred)\n",
    "print('Error medio Absoluto (MAE):', metrics.mean_absolute_error(y_test, y_pred))\n",
    "print('Root Mean Squared Error:', np.sqrt(metrics.mean_squared_error(y_test, y_pred)))\n",
    "print('r2_score',r2_score(y_test, y_pred ))"
   ]
  },
  {
   "cell_type": "markdown",
   "metadata": {},
   "source": [
    "Ridge"
   ]
  },
  {
   "cell_type": "code",
   "execution_count": 190,
   "metadata": {},
   "outputs": [],
   "source": [
    "X_train2=X_train.to_numpy().reshape(-1,1)"
   ]
  },
  {
   "cell_type": "code",
   "execution_count": 192,
   "metadata": {},
   "outputs": [
    {
     "data": {
      "text/plain": [
       "Pipeline(steps=[('Poli_features', PolynomialFeatures(include_bias=False)),\n",
       "                ('Scaler', StandardScaler()),\n",
       "                ('linear_reg', LinearRegression())])"
      ]
     },
     "execution_count": 192,
     "metadata": {},
     "output_type": "execute_result"
    }
   ],
   "source": [
    "modelo = Pipeline([(\"Poli_features\", PolynomialFeatures(degree=2, include_bias=False)),\n",
    "                  (\"Scaler\", StandardScaler()),\n",
    "                  (\"linear_reg\", LinearRegression())])\n",
    "modelo.fit(X_train, y_train)"
   ]
  },
  {
   "cell_type": "code",
   "execution_count": 194,
   "metadata": {},
   "outputs": [
    {
     "data": {
      "text/plain": [
       "Pipeline(steps=[('Poli_features',\n",
       "                 PolynomialFeatures(degree=5, include_bias=False)),\n",
       "                ('Scaler', StandardScaler()),\n",
       "                ('ridge', Ridge(alpha=5, random_state=42, solver='cholesky'))])"
      ]
     },
     "execution_count": 194,
     "metadata": {},
     "output_type": "execute_result"
    }
   ],
   "source": [
    "modelo_ridge = Pipeline([(\"Poli_features\", PolynomialFeatures(degree=5, include_bias=False)),\n",
    "                  (\"Scaler\", StandardScaler()),\n",
    "                  (\"ridge\", Ridge(alpha = 5, solver = 'cholesky', random_state = 42))])\n",
    "modelo_ridge.fit(X_train, y_train)"
   ]
  },
  {
   "cell_type": "code",
   "execution_count": 195,
   "metadata": {},
   "outputs": [],
   "source": [
    "y_pred = modelo_ridge.predict(X_test)"
   ]
  },
  {
   "cell_type": "code",
   "execution_count": 196,
   "metadata": {},
   "outputs": [
    {
     "name": "stdout",
     "output_type": "stream",
     "text": [
      "Error medio Absoluto (MAE): 135505.31846200227\n",
      "Root Mean Squared Error: 316603.6497151816\n",
      "r2_score 0.3637644320943827\n"
     ]
    }
   ],
   "source": [
    "Ridge_mae=metrics.mean_absolute_error(y_test,y_pred)\n",
    "Ridge_r2=r2_score(y_test,y_pred)\n",
    "print('Error medio Absoluto (MAE):', metrics.mean_absolute_error(y_test, y_pred))\n",
    "print('Root Mean Squared Error:', np.sqrt(metrics.mean_squared_error(y_test, y_pred)))\n",
    "print('r2_score',r2_score(y_test, y_pred ))"
   ]
  },
  {
   "cell_type": "markdown",
   "metadata": {},
   "source": [
    "Lasso"
   ]
  },
  {
   "cell_type": "code",
   "execution_count": 199,
   "metadata": {},
   "outputs": [
    {
     "data": {
      "text/plain": [
       "Pipeline(steps=[('Poli_features',\n",
       "                 PolynomialFeatures(degree=5, include_bias=False)),\n",
       "                ('Scaler', StandardScaler()),\n",
       "                ('lasso', Lasso(alpha=1, random_state=42, tol=0.1))])"
      ]
     },
     "execution_count": 199,
     "metadata": {},
     "output_type": "execute_result"
    }
   ],
   "source": [
    "modelo_lasso = Pipeline([(\"Poli_features\", PolynomialFeatures(degree=5, include_bias=False)),\n",
    "                        (\"Scaler\", StandardScaler()),\n",
    "                        (\"lasso\", Lasso(alpha = 1, random_state = 42,tol=0.1,max_iter=1000))])\n",
    "\n",
    "\n",
    "modelo_lasso.fit(X_train, y_train)"
   ]
  },
  {
   "cell_type": "code",
   "execution_count": 200,
   "metadata": {},
   "outputs": [],
   "source": [
    "y_pred = modelo_lasso.predict(X_test)"
   ]
  },
  {
   "cell_type": "code",
   "execution_count": 201,
   "metadata": {},
   "outputs": [
    {
     "name": "stdout",
     "output_type": "stream",
     "text": [
      "Error medio Absoluto (MAE): 127385.85985379231\n",
      "Root Mean Squared Error: 254950.23977556493\n",
      "r2_score 0.5874306511507248\n"
     ]
    }
   ],
   "source": [
    "Lasso_mae=metrics.mean_absolute_error(y_test,y_pred)\n",
    "Lasso_r2=r2_score(y_test,y_pred)\n",
    "print('Error medio Absoluto (MAE):', metrics.mean_absolute_error(y_test, y_pred))\n",
    "print('Root Mean Squared Error:', np.sqrt(metrics.mean_squared_error(y_test, y_pred)))\n",
    "print('r2_score',r2_score(y_test, y_pred ))"
   ]
  },
  {
   "cell_type": "code",
   "execution_count": 202,
   "metadata": {},
   "outputs": [],
   "source": [
    "Metricas = list()\n",
    "Metricas.append('Lin')\n",
    "Metricas.append('Poly')\n",
    "Metricas.append('Ridge')\n",
    "Metricas.append('Lasso')"
   ]
  },
  {
   "cell_type": "code",
   "execution_count": 203,
   "metadata": {},
   "outputs": [],
   "source": [
    "MAE = list()\n",
    "MAE.append(linear_mae)\n",
    "MAE.append(Poly_mae)\n",
    "MAE.append(Ridge_mae)\n",
    "MAE.append(Lasso_mae)"
   ]
  },
  {
   "cell_type": "code",
   "execution_count": 204,
   "metadata": {},
   "outputs": [
    {
     "name": "stdout",
     "output_type": "stream",
     "text": [
      "MAE\n",
      "[137480.13882731184, 148002.97899708702, 135505.31846200227, 127385.85985379231]\n"
     ]
    },
    {
     "data": {
      "image/png": "[encoded data removed]",
      "text/plain": [
       "<Figure size 800x400 with 1 Axes>"
      ]
     },
     "metadata": {},
     "output_type": "display_data"
    }
   ],
   "source": [
    "fig, ax = plt.subplots(figsize =(8, 4))\n",
    "print(\"MAE\")\n",
    "print(MAE)\n",
    "Metricas=list(Metricas)\n",
    "MAE=list(MAE)\n",
    "plt.bar(Metricas,MAE)\n",
    "\n",
    "\n",
    "plt.show()"
   ]
  },
  {
   "cell_type": "code",
   "execution_count": 205,
   "metadata": {},
   "outputs": [],
   "source": [
    "R2 = list()\n",
    "R2.append(linear_r2)\n",
    "R2.append(Poly_r2)\n",
    "R2.append(Ridge_r2)\n",
    "R2.append(Lasso_r2)"
   ]
  },
  {
   "cell_type": "code",
   "execution_count": 206,
   "metadata": {},
   "outputs": [
    {
     "name": "stdout",
     "output_type": "stream",
     "text": [
      "r2\n",
      "[0.6579723205007443, 0.5622624883130176, 0.3637644320943827, 0.5874306511507248]\n"
     ]
    },
    {
     "data": {
      "image/png": "[encoded data removed]",
      "text/plain": [
       "<Figure size 800x400 with 1 Axes>"
      ]
     },
     "metadata": {},
     "output_type": "display_data"
    }
   ],
   "source": [
    "fig, ax = plt.subplots(figsize=(8, 4))\n",
    "print(\"r2\")\n",
    "print(R2)\n",
    "R2 = list(R2)\n",
    "plt.bar(Metricas, R2)\n",
    "\n",
    "plt.show()"
   ]
  },
  {
   "cell_type": "code",
   "execution_count": null,
   "metadata": {},
   "outputs": [],
   "source": []
  }
 ],
 "metadata": {
  "accelerator": "GPU",
  "colab": {
   "provenance": []
  },
  "kernelspec": {
   "display_name": "Python 3 (ipykernel)",
   "language": "python",
   "name": "python3"
  },
  "language_info": {
   "codemirror_mode": {
    "name": "ipython",
    "version": 3
   },
   "file_extension": ".py",
   "mimetype": "text/x-python",
   "name": "python",
   "nbconvert_exporter": "python",
   "pygments_lexer": "ipython3",
   "version": "3.8.13"
  }
 },
 "nbformat": 4,
 "nbformat_minor": 1
}
